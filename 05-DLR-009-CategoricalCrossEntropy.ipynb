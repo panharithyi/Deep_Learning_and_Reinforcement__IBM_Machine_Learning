{
 "cells": [
  {
   "cell_type": "markdown",
   "metadata": {},
   "source": [
    "<center>\n",
    "    <img src=\"https://cf-courses-data.s3.us.cloud-object-storage.appdomain.cloud/assets/logos/SN_web_lightmode.png\" width=\"300\" alt=\"cognitiveclass.ai logo\">\n",
    "</center>\n"
   ]
  },
  {
   "cell_type": "markdown",
   "metadata": {},
   "source": [
    "# **Categorical Cross-Entropy Loss**\n"
   ]
  },
  {
   "cell_type": "markdown",
   "metadata": {},
   "source": [
    "Estimated time needed: **45** minutes\n"
   ]
  },
  {
   "cell_type": "markdown",
   "metadata": {},
   "source": [
    "In this lab, we are going to use the MNIST hand-written digits dataset as a motivating example to understand categorical cross-entropy loss.\n"
   ]
  },
  {
   "cell_type": "markdown",
   "metadata": {},
   "source": [
    "<h1> House Number Detection </h1></s>\n",
    "\n",
    "You have been tasked with building a model that can recognize house numbers from arbitrary street-view images. You are given a set of images of single-digit house numbers engraved into slates or wall surfaces. The images vary in size and color. In this lab, we are going to use the MNIST hand-written digits dataset as a motivating example to understand the __softmax function__, __one-hot encoding__, and __categorical cross-entropy loss__. The MNIST hand-written dataset has 10 classes, each representing a digit from 0-9. We will attempt to build a multi-class classification model that will identify which digit is present in the image. \n"
   ]
  },
  {
   "cell_type": "markdown",
   "metadata": {},
   "source": [
    "<img src=\"https://cf-courses-data.s3.us.cloud-object-storage.appdomain.cloud/IBMDeveloperSkillsNetwork-ML311-Coursera/labs/Module3/L1/house_number.jpg\" style=\"width: 30%\">\n",
    "\n",
    "<!-- Original Source: https://slate.com/human-interest/2020/06/a-quest-to-catalogue-every-single-house-number-in-one-suburban-zip-code.html --> \n"
   ]
  },
  {
   "cell_type": "markdown",
   "metadata": {},
   "source": [
    "## **Table of Contents**\n",
    "\n",
    "<ol>\n",
    "    <li><a href=\"https://#Objectives\">Objectives</a></li>\n",
    "    <li><a href=\"https://#Datasets\">Datasets</a></li>\n",
    "    <li>\n",
    "        <a href=\"https://#Setup\">Setup</a>\n",
    "        <ol>\n",
    "            <li><a href=\"https://#Installing-Required-Libraries\">Installing Required Libraries</a></li>\n",
    "            <li><a href=\"https://#Importing-Required-Libraries\">Importing Required Libraries</a></li>\n",
    "            <li><a href=\"https://#Defining-Helper-Functions\">Defining Helper Functions</a></li>\n",
    "        </ol>\n",
    "    </li>\n",
    "    <li><a href=\"https://https://#Categorical Cross-Entropy\">Categorical Cross-Entropy</a>\n",
    "        <ol>\n",
    "            <li><a href=\"https://#Softmax Activation Function\">Softmax Activation Function</a></li>\n",
    "            <li><a href=\"https://#One-Hot Encoding\">One-Hot Encoding</a></li>\n",
    "            <li><a href=\"#Categorical Cross-Entropy\">Categorical Cross-Entropy</a></li>\n",
    "        </ol>\n",
    "    </li>\n",
    "    <li><a href=\"https://#Binary vs. Multi-Class Classification\">Binary vs. Multi-Class Classification</a>\n",
    "        <ol>\n",
    "            <li><a href=\"https://#Binary Classification\">Binary Classification</a></li>\n",
    "            <li><a href=\"https://#Multi-Class Classification\">Multi-Class Classification</a></li>\n",
    "        </ol>\n",
    "    </li>\n",
    "    <li>\n",
    "        <a href=\"https://#Example: MNIST Hand-Written Digits\">Example: MNIST Hand-Written Digits</a> </li>\n",
    "    <li>\n",
    "        <a href=\"https://#Example: Single-Digit House Number Recognition\"> Example: Single-Digit House Number Recognition</a> </li>\n",
    "    <li><a href=\"https://#Exercises\">Exercises</a>\n",
    "        <ol>\n",
    "            <li><a href=\"https://#Exercise 1 - Loading and plotting the images\">Exercise 1 - Loading and plotting the images</a></li>\n",
    "            <li><a href=\"https://#Exercise 2 - Preparing the data\">Exercise 2 - Preparing the data</a></li>\n",
    "            <li><a href=\"https://#Exercise 3 - One-hot encoding\">Exercise 3 - One-hot encoding</a></li>\n",
    "            <li><a href=\"https://#Exercise 4 - Build model architecture\">Exercise 4 - Build model architecture</a></li>\n",
    "            <li><a href=\"https://#(Optional) Exercise 5 - Sparse Categorical Cross-Entropy\">Sparse Categorical Cross-Entropy</a></li>\n",
    "        </ol>\n",
    "    </li>\n",
    "</ol>\n"
   ]
  },
  {
   "cell_type": "markdown",
   "metadata": {},
   "source": [
    "## Objectives\n",
    "\n",
    "After completing this lab you will be able to:\n",
    "\n",
    "*   **Understand** what categorical cross-entropy is, and how it works with the Softmax activation function.\n",
    "*   **Build** simple CNN models for binary and multi-class classification.\n"
   ]
  },
  {
   "cell_type": "markdown",
   "metadata": {},
   "source": [
    "## Setup\n"
   ]
  },
  {
   "cell_type": "markdown",
   "metadata": {},
   "source": [
    "For this lab, we will be using the following libraries:\n",
    "\n",
    "*   [`pandas`](https://pandas.pydata.org/?utm_medium=Exinfluencer&utm_source=Exinfluencer&utm_content=000026UJ&utm_term=10006555&utm_id=NA-SkillsNetwork-Channel-SkillsNetworkCoursesIBMML0187ENSkillsNetwork31430127-2021-01-01) for managing the data.\n",
    "*   [`numpy`](https://numpy.org/?utm_medium=Exinfluencer&utm_source=Exinfluencer&utm_content=000026UJ&utm_term=10006555&utm_id=NA-SkillsNetwork-Channel-SkillsNetworkCoursesIBMML0187ENSkillsNetwork31430127-2021-01-01) for mathematical operations.\n",
    "*   [`sklearn`](https://scikit-learn.org/stable/?utm_medium=Exinfluencer&utm_source=Exinfluencer&utm_content=000026UJ&utm_term=10006555&utm_id=NA-SkillsNetwork-Channel-SkillsNetworkCoursesIBMML0187ENSkillsNetwork31430127-2021-01-01) for machine learning and machine-learning-pipeline related functions.\n",
    "*   [`seaborn`](https://seaborn.pydata.org/?utm_medium=Exinfluencer&utm_source=Exinfluencer&utm_content=000026UJ&utm_term=10006555&utm_id=NA-SkillsNetwork-Channel-SkillsNetworkCoursesIBMML0187ENSkillsNetwork31430127-2021-01-01) for visualizing the data.\n",
    "*   [`matplotlib`](https://matplotlib.org/?utm_medium=Exinfluencer&utm_source=Exinfluencer&utm_content=000026UJ&utm_term=10006555&utm_id=NA-SkillsNetwork-Channel-SkillsNetworkCoursesIBMML0187ENSkillsNetwork31430127-2021-01-01) for additional plotting tools.\n",
    "*   [`keras`](https://keras.io/?utm_medium=Exinfluencer&utm_source=Exinfluencer&utm_content=000026UJ&utm_term=10006555&utm_id=NA-SkillsNetwork-Channel-SkillsNetworkCoursesIBMML0187ENSkillsNetwork31430127-2021-01-01) for loading datasets.\n"
   ]
  },
  {
   "cell_type": "markdown",
   "metadata": {},
   "source": [
    "### Installing Required Libraries\n",
    "\n",
    "The following required libraries are pre-installed in the Skills Network Labs environment. However, if you run these notebook commands in a different Jupyter environment (like Watson Studio or Ananconda), you will need to install these libraries by removing the `#` sign before `!pip install mlxtend` in the following code cell.\n"
   ]
  },
  {
   "cell_type": "markdown",
   "metadata": {},
   "source": [
    "The following required libraries are **not** pre-installed in the Skills Network Labs environment. **You will need to run the following cell** to install them. **Please RESTART KERNEL after installation,**.\n"
   ]
  },
  {
   "cell_type": "code",
   "execution_count": 1,
   "metadata": {
    "tags": []
   },
   "outputs": [],
   "source": [
    "%%capture\n",
    "\n",
    "!pip install mlxtend\n",
    "!pip install --upgrade tensorflow"
   ]
  },
  {
   "cell_type": "markdown",
   "metadata": {},
   "source": [
    "### Importing Required Libraries\n"
   ]
  },
  {
   "cell_type": "code",
   "execution_count": 2,
   "metadata": {
    "tags": []
   },
   "outputs": [
    {
     "name": "stderr",
     "output_type": "stream",
     "text": [
      "2025-01-08 01:35:14.752806: I tensorflow/core/platform/cpu_feature_guard.cc:193] This TensorFlow binary is optimized with oneAPI Deep Neural Network Library (oneDNN) to use the following CPU instructions in performance-critical operations:  AVX2 AVX512F AVX512_VNNI FMA\n",
      "To enable them in other operations, rebuild TensorFlow with the appropriate compiler flags.\n",
      "2025-01-08 01:35:14.977361: I tensorflow/core/util/port.cc:104] oneDNN custom operations are on. You may see slightly different numerical results due to floating-point round-off errors from different computation orders. To turn them off, set the environment variable `TF_ENABLE_ONEDNN_OPTS=0`.\n",
      "2025-01-08 01:35:14.982090: W tensorflow/compiler/xla/stream_executor/platform/default/dso_loader.cc:64] Could not load dynamic library 'libcudart.so.11.0'; dlerror: libcudart.so.11.0: cannot open shared object file: No such file or directory\n",
      "2025-01-08 01:35:14.982125: I tensorflow/compiler/xla/stream_executor/cuda/cudart_stub.cc:29] Ignore above cudart dlerror if you do not have a GPU set up on your machine.\n",
      "2025-01-08 01:35:15.896025: W tensorflow/compiler/xla/stream_executor/platform/default/dso_loader.cc:64] Could not load dynamic library 'libnvinfer.so.7'; dlerror: libnvinfer.so.7: cannot open shared object file: No such file or directory\n",
      "2025-01-08 01:35:15.896209: W tensorflow/compiler/xla/stream_executor/platform/default/dso_loader.cc:64] Could not load dynamic library 'libnvinfer_plugin.so.7'; dlerror: libnvinfer_plugin.so.7: cannot open shared object file: No such file or directory\n",
      "2025-01-08 01:35:15.896225: W tensorflow/compiler/tf2tensorrt/utils/py_utils.cc:38] TF-TRT Warning: Cannot dlopen some TensorRT libraries. If you would like to use Nvidia GPU with TensorRT, please make sure the missing libraries mentioned above are installed properly.\n"
     ]
    },
    {
     "name": "stdout",
     "output_type": "stream",
     "text": [
      "2.11.0\n"
     ]
    }
   ],
   "source": [
    "import cv2\n",
    "from urllib.request import urlopen\n",
    "from PIL import Image\n",
    "import IPython\n",
    "import numpy as np\n",
    "from matplotlib import pyplot as plt\n",
    "import pandas as pd, numpy as np\n",
    "\n",
    "from keras.datasets import mnist, fashion_mnist\n",
    "import random\n",
    "from sklearn.preprocessing import OneHotEncoder\n",
    "from tensorflow.keras.losses import CategoricalCrossentropy,SparseCategoricalCrossentropy,BinaryCrossentropy\n",
    "from sklearn.datasets import make_blobs\n",
    "from mlxtend.plotting import plot_decision_regions\n",
    "import tensorflow as tf\n",
    "print(tf.__version__)\n",
    "\n",
    "from sklearn import preprocessing\n",
    "from tensorflow.keras.utils import to_categorical\n",
    "from tensorflow.keras.models import Sequential\n",
    "from tensorflow.keras.layers import Dense"
   ]
  },
  {
   "cell_type": "markdown",
   "metadata": {},
   "source": [
    "### Defining Helper Functions\n",
    "\n",
    "*Use this section to define any helper functions to help the notebook's code readability:*\n"
   ]
  },
  {
   "cell_type": "code",
   "execution_count": 3,
   "metadata": {
    "tags": []
   },
   "outputs": [],
   "source": [
    "def generate_multiclass_blobs(num_samples_total, training_split, cluster_centers, num_classes, loss_function_used):\n",
    "    \n",
    "    X, targets = make_blobs(n_samples = num_samples_total, centers = cluster_centers, n_features = num_classes, center_box=(0, 1), cluster_std = 1.5)\n",
    "    categorical_targets = to_categorical(targets)\n",
    "    X_training = X[training_split:, :]\n",
    "    X_testing = X[:training_split, :]\n",
    "    Targets_training = categorical_targets[training_split:]\n",
    "    Targets_testing = categorical_targets[:training_split].astype(np.int32)\n",
    "    return X_training, Targets_training, X_testing, Targets_testing\n",
    "\n",
    "\n",
    "def generate_binary_blobs(num_samples_total, training_split, loss_function_used):\n",
    "    \n",
    "    X, targets = make_blobs(n_samples = num_samples_total, centers = [(0,0), (15,15)], n_features = 2, center_box=(0, 1), cluster_std = 2.5)\n",
    "    targets[np.where(targets == 0)] = -1\n",
    "    X_training = X[training_split:, :]\n",
    "    X_testing = X[:training_split, :]\n",
    "    Targets_training = targets[training_split:]\n",
    "    Targets_testing = targets[:training_split]\n",
    "    return X_training, Targets_training, X_testing, Targets_testing"
   ]
  },
  {
   "cell_type": "markdown",
   "metadata": {},
   "source": [
    "## Categorical Cross-Entropy\n"
   ]
  },
  {
   "cell_type": "markdown",
   "metadata": {},
   "source": [
    "When working on a machine learning problem, we use loss functions to optimize our models during training where a common objective is to minimize the loss function.\n",
    "\n",
    "Cross-entropy is a widely used loss or cost function, that is used to optimize classification models. Before delving into cross-entropy, let us first cover the prerequisites by learning about a common activation function called Softmax.\n"
   ]
  },
  {
   "cell_type": "markdown",
   "metadata": {},
   "source": [
    "### Softmax Activation Function\n"
   ]
  },
  {
   "cell_type": "markdown",
   "metadata": {},
   "source": [
    "Activation functions are transformations applied to the output from CNNs before loss computations.\n"
   ]
  },
  {
   "cell_type": "markdown",
   "metadata": {},
   "source": [
    "The Softmax activation function is typically placed as the last layer in a neural network and used to normalize the output of a network to a probability distribution over predicted output classes.\n",
    "\n",
    "It does so by scaling numbers/logits into probabilities for each possible outcome or class present in our dataset. The resulting probabilities in the vector sum up to one.\n",
    "\n",
    "Mathematically, Softmax is defined as follows:\n",
    "\n",
    "<img src=\"https://cf-courses-data.s3.us.cloud-object-storage.appdomain.cloud/IBMDeveloperSkillsNetwork-ML311-Coursera/labs/Module3/L1/softmax.png\" style=\"width: 30%\">\n"
   ]
  },
  {
   "cell_type": "markdown",
   "metadata": {},
   "source": [
    "Here, $\\overrightarrow{{z}}$ is an input vector to the Softmax function $\\sigma$.\n",
    "\n",
    "$\\overrightarrow{{z}}\\_i$ represents the $i$th element of the input vector, and can take on values from -inf to inf.\n",
    "\n",
    "$\\overrightarrow{{z}}_i$ represents the $i$th element of the input vector, and can take on values from -inf to inf. \n",
    "\n",
    "$e^{z_i}$ is a standard exponential function applied on the $i$th element of $z$, and the denominator is a normalizing term (L1-norm) to ensure the result is a valid probability distribution, that is, sums up to 1, and values are within the 0 - 1 range.\n"
   ]
  },
  {
   "cell_type": "markdown",
   "metadata": {},
   "source": [
    "Exponential is a steeply increasing function; that is, it increases the difference between outputs. In the final output, the largest element (which dominates the norm) is normalized to a value close to 1, while all the other elements end up being close to 0. Not only does the resulting vector show the winning class, but it also retains the original order of values.\n",
    "\n",
    "\n",
    "Another important point to note is that Softmax is not affected by negative values, as the exponent of any value is always a positive value.\n"
   ]
  },
  {
   "cell_type": "markdown",
   "metadata": {},
   "source": [
    "Let us walk through an example to understand Softmax.\n"
   ]
  },
  {
   "cell_type": "markdown",
   "metadata": {},
   "source": [
    "Imagine you are building a CNN model to classify an image as a dog, cat, fish, or horse. The fully-connected layer of your CNN gives a vector of logits. You pass the vector through the Softmax function above to obtain probabilities.\n"
   ]
  },
  {
   "cell_type": "markdown",
   "metadata": {},
   "source": [
    "![](https://cf-courses-data.s3.us.cloud-object-storage.appdomain.cloud/IBMDeveloperSkillsNetwork-ML311-Coursera/labs/Module3/L1/cce_diag.png)\n"
   ]
  },
  {
   "cell_type": "markdown",
   "metadata": {},
   "source": [
    "### One-Hot Encoding\n"
   ]
  },
  {
   "cell_type": "markdown",
   "metadata": {},
   "source": [
    "The ground truth is typically presented in form of categorical data; that is, a given image is categorized into one of these classes: dog, cat, fish, or horse.\n"
   ]
  },
  {
   "cell_type": "markdown",
   "metadata": {},
   "source": [
    "For categorical variables where no ordinal relationships exist, we can perform one-hot encoding to represent each class. This is best explained through an example.\n",
    "\n",
    "In our case, we will have four classes, and these are the corresponding one-hot encoded labels:\n"
   ]
  },
  {
   "cell_type": "markdown",
   "metadata": {},
   "source": [
    "<img src=\"https://cf-courses-data.s3.us.cloud-object-storage.appdomain.cloud/IBMDeveloperSkillsNetwork-ML311-Coursera/labs/Module3/L1/ohe_labels.png\" style=\"width: 50%\">\n"
   ]
  },
  {
   "cell_type": "markdown",
   "metadata": {},
   "source": [
    "So in one-hot encoding, we represent labels with a binary variable where for every given class, we have the value 1 for the position corresponding to that particular class and 0 elsewhere (that is, 100% probability of belonging to that class).\n"
   ]
  },
  {
   "cell_type": "markdown",
   "metadata": {},
   "source": [
    "### Back to Categorical Cross-Entropy\n"
   ]
  },
  {
   "cell_type": "markdown",
   "metadata": {},
   "source": [
    "Now that we have converted the logits to output probabilities, we need to measure how good they are; that is, measure the distance from the truth values.\n"
   ]
  },
  {
   "cell_type": "markdown",
   "metadata": {},
   "source": [
    "For instance, in the example above, the desired output is [1,0,0,0], but the model outputs [0.775,0.116,0.039,0.070].\n"
   ]
  },
  {
   "cell_type": "markdown",
   "metadata": {},
   "source": [
    "The categorical cross-entropy is mathematically defined as follows:\n"
   ]
  },
  {
   "cell_type": "markdown",
   "metadata": {},
   "source": [
    "<img src=\"https://cf-courses-data.s3.us.cloud-object-storage.appdomain.cloud/IBMDeveloperSkillsNetwork-ML311-Coursera/labs/Module3/L1/cce.png\" style=\"width: 30%\">\n"
   ]
  },
  {
   "cell_type": "markdown",
   "metadata": {},
   "source": [
    "We can use the formula above to compute the cross-entropy loss. When training our model, we iteratively update the weights to minimize the cross-entropy loss. \n",
    "\n",
    "The Softmax is continuously differentiable, and this property makes it easy to compute the derivative of the loss function and, accordingly, adjust the model weights in each iteration to minimize the loss function.\n",
    "\n",
    "In the next iteration, if our $$L\\_{CE}$$ is lower than the current one, we say that the model is *learning*.\n"
   ]
  },
  {
   "cell_type": "markdown",
   "metadata": {},
   "source": [
    "## Binary vs. Multi-Class Classification\n"
   ]
  },
  {
   "cell_type": "markdown",
   "metadata": {},
   "source": [
    "Now, let us do a quick review of binary and multi-class classification. Binary classification tasks require that all examples be assigned to one of two classes, whereas in multi-class classification, examples can belong to more than two classes.\n",
    "\n",
    "For binary classification problems, we have a final layer with a single node and a sigmoid activation function. It can map the output vector from a CNN to values between 0 and 1 before loss computations. The sigmoid function is denoted using the following formula:\n",
    "\n",
    "$$\\sigma(x) = 1/(1+e^{-x})$$\n"
   ]
  },
  {
   "cell_type": "markdown",
   "metadata": {},
   "source": [
    "Let's see binary classification and multi-class classification in action.\n"
   ]
  },
  {
   "cell_type": "markdown",
   "metadata": {},
   "source": [
    "### Binary Classification\n"
   ]
  },
  {
   "cell_type": "markdown",
   "metadata": {},
   "source": [
    "Using a helper function defined at the beginning of the notebook, we will use the `make_blobs()` function from `sklearn` to generate isotropic Gaussian blobs for classification.\n",
    "\n",
    "We will create a data set with 1000 samples, and use 750 of those samples for training a simple CNN model.\n"
   ]
  },
  {
   "cell_type": "markdown",
   "metadata": {},
   "source": [
    "Let us define a few more configuration options.\n"
   ]
  },
  {
   "cell_type": "markdown",
   "metadata": {},
   "source": [
    "*   **num_samples**: refers to the total number of samples in our dataset\n",
    "*   **test_split**: refers to the number of samples to be used for testing\n",
    "*   **cluster_centers**: we define 2 centers for our isotropic Gaussian blobs\n",
    "*   **num_classes**: we have 2 classes\n",
    "*   **loss_function_used**: since this is a binary classification problem, we use binary cross-entropy loss\n"
   ]
  },
  {
   "cell_type": "code",
   "execution_count": 4,
   "metadata": {
    "tags": []
   },
   "outputs": [],
   "source": [
    "num_samples = 1000\n",
    "test_split = 250\n",
    "cluster_centers = [(15,0), (30,15)]\n",
    "num_classes = len(cluster_centers)\n",
    "loss_function_used = BinaryCrossentropy(from_logits=True)"
   ]
  },
  {
   "cell_type": "code",
   "execution_count": 5,
   "metadata": {
    "tags": []
   },
   "outputs": [],
   "source": [
    "X_training, Targets_training, X_testing, Targets_testing=generate_binary_blobs(num_samples, test_split, loss_function_used)\n"
   ]
  },
  {
   "cell_type": "markdown",
   "metadata": {},
   "source": [
    "We can take look at one of the samples.\n"
   ]
  },
  {
   "cell_type": "code",
   "execution_count": 6,
   "metadata": {
    "tags": []
   },
   "outputs": [
    {
     "data": {
      "image/png": "[encoded data removed]",
      "text/plain": [
       "<Figure size 400x400 with 1 Axes>"
      ]
     },
     "metadata": {},
     "output_type": "display_data"
    }
   ],
   "source": [
    "plt.figure(figsize=(4, 4))\n",
    "plt.scatter(X_training[:,0], X_training[:,1])\n",
    "plt.title('Linearly separable data')\n",
    "plt.xlabel('X1')\n",
    "plt.ylabel('X2')\n",
    "plt.show()"
   ]
  },
  {
   "cell_type": "markdown",
   "metadata": {},
   "source": [
    "We will build a simple CNN model with two hidden layers, that uses sigmoid as the activation function, and binary cross-entropy as the loss function. Let's define the architecture of our model:\n"
   ]
  },
  {
   "cell_type": "code",
   "execution_count": 7,
   "metadata": {
    "tags": []
   },
   "outputs": [
    {
     "name": "stderr",
     "output_type": "stream",
     "text": [
      "2025-01-08 01:35:17.639209: W tensorflow/compiler/xla/stream_executor/platform/default/dso_loader.cc:64] Could not load dynamic library 'libcuda.so.1'; dlerror: libcuda.so.1: cannot open shared object file: No such file or directory\n",
      "2025-01-08 01:35:17.639259: W tensorflow/compiler/xla/stream_executor/cuda/cuda_driver.cc:265] failed call to cuInit: UNKNOWN ERROR (303)\n",
      "2025-01-08 01:35:17.639286: I tensorflow/compiler/xla/stream_executor/cuda/cuda_diagnostics.cc:156] kernel driver does not appear to be running on this host (jupyterlab-rithpan): /proc/driver/nvidia/version does not exist\n",
      "2025-01-08 01:35:17.639623: I tensorflow/core/platform/cpu_feature_guard.cc:193] This TensorFlow binary is optimized with oneAPI Deep Neural Network Library (oneDNN) to use the following CPU instructions in performance-critical operations:  AVX2 AVX512F AVX512_VNNI FMA\n",
      "To enable them in other operations, rebuild TensorFlow with the appropriate compiler flags.\n"
     ]
    }
   ],
   "source": [
    "feature_vector_shape = X_training.shape[1]\n",
    "input_shape = (feature_vector_shape,)\n",
    "\n",
    "model = Sequential()\n",
    "model.add(Dense(12, input_shape=input_shape, activation='relu', kernel_initializer='he_uniform'))\n",
    "model.add(Dense(8, activation='relu', kernel_initializer='he_uniform'))\n",
    "model.add(Dense(1, activation = 'sigmoid'))"
   ]
  },
  {
   "cell_type": "code",
   "execution_count": 8,
   "metadata": {
    "tags": []
   },
   "outputs": [
    {
     "name": "stderr",
     "output_type": "stream",
     "text": [
      "WARNING:absl:`lr` is deprecated, please use `learning_rate` instead, or use the legacy optimizer, e.g.,tf.keras.optimizers.legacy.Adam.\n"
     ]
    },
    {
     "name": "stdout",
     "output_type": "stream",
     "text": [
      "Epoch 1/30\n"
     ]
    },
    {
     "name": "stderr",
     "output_type": "stream",
     "text": [
      "/home/jupyterlab/conda/envs/python/lib/python3.7/site-packages/keras/backend.py:5677: UserWarning: \"`binary_crossentropy` received `from_logits=True`, but the `output` argument was produced by a Sigmoid activation and thus does not represent logits. Was this intended?\n",
      "  output, from_logits, \"Sigmoid\", \"binary_crossentropy\"\n"
     ]
    },
    {
     "name": "stdout",
     "output_type": "stream",
     "text": [
      "120/120 [==============================] - 1s 6ms/step - loss: 2.3071 - accuracy: 0.1783 - val_loss: -0.2879 - val_accuracy: 0.5000\n",
      "Epoch 2/30\n",
      "120/120 [==============================] - 0s 3ms/step - loss: -0.9531 - accuracy: 0.4917 - val_loss: -1.3221 - val_accuracy: 0.5000\n",
      "Epoch 3/30\n",
      "120/120 [==============================] - 0s 4ms/step - loss: -2.3740 - accuracy: 0.4917 - val_loss: -2.9150 - val_accuracy: 0.5000\n",
      "Epoch 4/30\n",
      "120/120 [==============================] - 0s 4ms/step - loss: -4.7870 - accuracy: 0.4767 - val_loss: -5.6445 - val_accuracy: 0.4600\n",
      "Epoch 5/30\n",
      "120/120 [==============================] - 0s 4ms/step - loss: -8.8536 - accuracy: 0.4700 - val_loss: -10.0507 - val_accuracy: 0.4533\n",
      "Epoch 6/30\n",
      "120/120 [==============================] - 0s 4ms/step - loss: -15.2598 - accuracy: 0.4650 - val_loss: -17.2287 - val_accuracy: 0.4867\n",
      "Epoch 7/30\n",
      "120/120 [==============================] - 0s 4ms/step - loss: -25.2859 - accuracy: 0.4683 - val_loss: -27.9961 - val_accuracy: 0.4933\n",
      "Epoch 8/30\n",
      "120/120 [==============================] - 0s 3ms/step - loss: -40.5057 - accuracy: 0.4750 - val_loss: -44.6269 - val_accuracy: 0.4800\n",
      "Epoch 9/30\n",
      "120/120 [==============================] - 0s 3ms/step - loss: -62.6012 - accuracy: 0.4717 - val_loss: -66.9850 - val_accuracy: 0.4933\n",
      "Epoch 10/30\n",
      "120/120 [==============================] - 0s 4ms/step - loss: -92.3129 - accuracy: 0.4683 - val_loss: -97.3801 - val_accuracy: 0.4933\n",
      "Epoch 11/30\n",
      "120/120 [==============================] - 0s 3ms/step - loss: -130.6818 - accuracy: 0.4750 - val_loss: -135.2536 - val_accuracy: 0.4933\n",
      "Epoch 12/30\n",
      "120/120 [==============================] - 0s 4ms/step - loss: -177.7478 - accuracy: 0.4650 - val_loss: -181.5851 - val_accuracy: 0.5000\n",
      "Epoch 13/30\n",
      "120/120 [==============================] - 0s 3ms/step - loss: -235.2159 - accuracy: 0.4700 - val_loss: -237.3928 - val_accuracy: 0.5000\n",
      "Epoch 14/30\n",
      "120/120 [==============================] - 0s 3ms/step - loss: -303.7694 - accuracy: 0.4700 - val_loss: -303.2166 - val_accuracy: 0.4867\n",
      "Epoch 15/30\n",
      "120/120 [==============================] - 0s 4ms/step - loss: -383.3798 - accuracy: 0.4650 - val_loss: -377.8925 - val_accuracy: 0.5000\n",
      "Epoch 16/30\n",
      "120/120 [==============================] - 0s 3ms/step - loss: -474.0762 - accuracy: 0.4683 - val_loss: -464.2359 - val_accuracy: 0.5000\n",
      "Epoch 17/30\n",
      "120/120 [==============================] - 0s 4ms/step - loss: -576.9915 - accuracy: 0.4700 - val_loss: -560.1270 - val_accuracy: 0.5000\n",
      "Epoch 18/30\n",
      "120/120 [==============================] - 0s 4ms/step - loss: -691.7836 - accuracy: 0.4700 - val_loss: -666.6596 - val_accuracy: 0.5000\n",
      "Epoch 19/30\n",
      "120/120 [==============================] - 1s 4ms/step - loss: -816.9700 - accuracy: 0.4750 - val_loss: -787.7745 - val_accuracy: 0.5000\n",
      "Epoch 20/30\n",
      "120/120 [==============================] - 0s 4ms/step - loss: -956.6227 - accuracy: 0.4750 - val_loss: -918.1304 - val_accuracy: 0.5000\n",
      "Epoch 21/30\n",
      "120/120 [==============================] - 0s 3ms/step - loss: -1109.4299 - accuracy: 0.4717 - val_loss: -1058.0585 - val_accuracy: 0.5000\n",
      "Epoch 22/30\n",
      "120/120 [==============================] - 0s 4ms/step - loss: -1274.4641 - accuracy: 0.4800 - val_loss: -1214.3890 - val_accuracy: 0.5000\n",
      "Epoch 23/30\n",
      "120/120 [==============================] - 0s 3ms/step - loss: -1453.7163 - accuracy: 0.4717 - val_loss: -1383.4009 - val_accuracy: 0.5000\n",
      "Epoch 24/30\n",
      "120/120 [==============================] - 0s 4ms/step - loss: -1646.9148 - accuracy: 0.4767 - val_loss: -1560.7094 - val_accuracy: 0.5000\n",
      "Epoch 25/30\n",
      "120/120 [==============================] - 0s 4ms/step - loss: -1853.5123 - accuracy: 0.4683 - val_loss: -1746.9902 - val_accuracy: 0.5000\n",
      "Epoch 26/30\n",
      "120/120 [==============================] - 0s 4ms/step - loss: -2072.3103 - accuracy: 0.4717 - val_loss: -1957.8193 - val_accuracy: 0.5000\n",
      "Epoch 27/30\n",
      "120/120 [==============================] - 0s 4ms/step - loss: -2307.3120 - accuracy: 0.4700 - val_loss: -2167.8826 - val_accuracy: 0.5000\n",
      "Epoch 28/30\n",
      "120/120 [==============================] - 0s 3ms/step - loss: -2554.0593 - accuracy: 0.4733 - val_loss: -2400.1250 - val_accuracy: 0.5000\n",
      "Epoch 29/30\n",
      "120/120 [==============================] - 0s 4ms/step - loss: -2819.0034 - accuracy: 0.4783 - val_loss: -2646.6838 - val_accuracy: 0.5000\n",
      "Epoch 30/30\n",
      "120/120 [==============================] - 1s 4ms/step - loss: -3111.2458 - accuracy: 0.4700 - val_loss: -2926.9084 - val_accuracy: 0.5000\n"
     ]
    }
   ],
   "source": [
    "model.compile(loss=loss_function_used, optimizer=tf.keras.optimizers.Adam(lr=0.01), metrics=['accuracy'])\n",
    "history = model.fit(X_training, Targets_training, epochs=30, batch_size=5, verbose=1, validation_split=0.2)"
   ]
  },
  {
   "cell_type": "markdown",
   "metadata": {},
   "source": [
    "We will now use the trained model to make predictions on an unseen test dataset.\n"
   ]
  },
  {
   "cell_type": "code",
   "execution_count": 9,
   "metadata": {
    "tags": []
   },
   "outputs": [
    {
     "name": "stdout",
     "output_type": "stream",
     "text": [
      "8/8 [==============================] - 0s 3ms/step - loss: -3544.8420 - accuracy: 0.4640\n",
      "Test results - Loss: -3544.842041015625 - Accuracy: 46.39999866485596%\n"
     ]
    }
   ],
   "source": [
    "test_results = model.evaluate(X_testing, Targets_testing, verbose=1)\n",
    "print(f'Test results - Loss: {test_results[0]} - Accuracy: {test_results[1]*100}%')"
   ]
  },
  {
   "cell_type": "code",
   "execution_count": 10,
   "metadata": {
    "tags": []
   },
   "outputs": [
    {
     "name": "stdout",
     "output_type": "stream",
     "text": [
      "9600/9600 [==============================] - 16s 2ms/step\n"
     ]
    },
    {
     "data": {
      "image/png": "[encoded data removed]",
      "text/plain": [
       "<Figure size 640x480 with 1 Axes>"
      ]
     },
     "metadata": {},
     "output_type": "display_data"
    },
    {
     "data": {
      "text/plain": [
       "<Figure size 400x400 with 0 Axes>"
      ]
     },
     "metadata": {},
     "output_type": "display_data"
    }
   ],
   "source": [
    "plot_decision_regions(X_testing, Targets_testing, clf=model, legend=2)\n",
    "plt.figure(figsize=(4, 4))\n",
    "plt.show()"
   ]
  },
  {
   "cell_type": "markdown",
   "metadata": {},
   "source": [
    "The model successfully classifies the two clusters into two classes.\n"
   ]
  },
  {
   "cell_type": "markdown",
   "metadata": {},
   "source": [
    "### Multi-Class Classification\n"
   ]
  },
  {
   "cell_type": "markdown",
   "metadata": {},
   "source": [
    "Similar to binary classification, let's create another data set with 1000 samples, and use 750 of those samples for training a simple CNN model.\n"
   ]
  },
  {
   "cell_type": "markdown",
   "metadata": {},
   "source": [
    "Let us define a few more configuration options.\n"
   ]
  },
  {
   "cell_type": "markdown",
   "metadata": {},
   "source": [
    "*   **num_samples**: refers to the total number of samples in our dataset\n",
    "*   **test_split**: refers to the number of samples to be used for testing\n",
    "*   **cluster_centers**: we define 3 centers for our isotropic Gaussian blobs\n",
    "*   **num_classes**: we have 3 classes\n",
    "*   **loss_function_used**: since this is a multi-class classification problem, we use categorical cross-entropy loss\n"
   ]
  },
  {
   "cell_type": "code",
   "execution_count": 11,
   "metadata": {
    "tags": []
   },
   "outputs": [],
   "source": [
    "num_samples = 1000\n",
    "train_split = 250\n",
    "cluster_centers = [(-10, 5), (0, 0), (10, 5)]\n",
    "num_classes = len(cluster_centers)\n",
    "loss_function_used = CategoricalCrossentropy(from_logits=True)"
   ]
  },
  {
   "cell_type": "code",
   "execution_count": 12,
   "metadata": {
    "tags": []
   },
   "outputs": [],
   "source": [
    "X_training, Targets_training, X_testing, Targets_testing= generate_multiclass_blobs(num_samples, train_split,\n",
    "              cluster_centers, num_classes,\n",
    "              loss_function_used)"
   ]
  },
  {
   "cell_type": "markdown",
   "metadata": {},
   "source": [
    "Let's take a look at one of the samples.\n"
   ]
  },
  {
   "cell_type": "code",
   "execution_count": 13,
   "metadata": {
    "tags": []
   },
   "outputs": [
    {
     "data": {
      "image/png": "[encoded data removed]",
      "text/plain": [
       "<Figure size 640x480 with 1 Axes>"
      ]
     },
     "metadata": {},
     "output_type": "display_data"
    }
   ],
   "source": [
    "plt.scatter(X_training[:,0], X_training[:,1])\n",
    "plt.title('Linearly separable data')\n",
    "plt.xlabel('X1')\n",
    "plt.ylabel('X2')\n",
    "plt.show()"
   ]
  },
  {
   "cell_type": "markdown",
   "metadata": {},
   "source": [
    "We will build a simple CNN model with two hidden layers, that uses softmax as the activation function, and categorical cross-entropy as the loss function. Let's define the architecture of our model:\n"
   ]
  },
  {
   "cell_type": "code",
   "execution_count": 14,
   "metadata": {
    "tags": []
   },
   "outputs": [],
   "source": [
    "feature_vector_shape = X_training.shape[1]\n",
    "input_shape = (feature_vector_shape,)\n",
    "\n",
    "model = Sequential()\n",
    "model.add(Dense(12, input_shape=input_shape, activation='relu', kernel_initializer='he_uniform'))\n",
    "model.add(Dense(8, activation='relu', kernel_initializer='he_uniform'))\n",
    "model.add(Dense(num_classes, activation='softmax'))"
   ]
  },
  {
   "cell_type": "code",
   "execution_count": 15,
   "metadata": {
    "tags": []
   },
   "outputs": [
    {
     "name": "stderr",
     "output_type": "stream",
     "text": [
      "WARNING:absl:`lr` is deprecated, please use `learning_rate` instead, or use the legacy optimizer, e.g.,tf.keras.optimizers.legacy.Adam.\n"
     ]
    },
    {
     "name": "stdout",
     "output_type": "stream",
     "text": [
      "Epoch 1/30\n"
     ]
    },
    {
     "name": "stderr",
     "output_type": "stream",
     "text": [
      "/home/jupyterlab/conda/envs/python/lib/python3.7/site-packages/keras/backend.py:5535: UserWarning: \"`categorical_crossentropy` received `from_logits=True`, but the `output` argument was produced by a Softmax activation and thus does not represent logits. Was this intended?\n",
      "  output, from_logits, \"Softmax\", \"categorical_crossentropy\"\n"
     ]
    },
    {
     "name": "stdout",
     "output_type": "stream",
     "text": [
      "120/120 [==============================] - 1s 6ms/step - loss: 5.6238 - accuracy: 0.4400 - val_loss: 0.7497 - val_accuracy: 0.7333\n",
      "Epoch 2/30\n",
      "120/120 [==============================] - 0s 4ms/step - loss: 0.4979 - accuracy: 0.7883 - val_loss: 0.3615 - val_accuracy: 0.8600\n",
      "Epoch 3/30\n",
      "120/120 [==============================] - 0s 4ms/step - loss: 0.3336 - accuracy: 0.8750 - val_loss: 0.2652 - val_accuracy: 0.9067\n",
      "Epoch 4/30\n",
      "120/120 [==============================] - 0s 4ms/step - loss: 0.2531 - accuracy: 0.9133 - val_loss: 0.1997 - val_accuracy: 0.9467\n",
      "Epoch 5/30\n",
      "120/120 [==============================] - 0s 4ms/step - loss: 0.1967 - accuracy: 0.9400 - val_loss: 0.1571 - val_accuracy: 0.9600\n",
      "Epoch 6/30\n",
      "120/120 [==============================] - 0s 3ms/step - loss: 0.1550 - accuracy: 0.9517 - val_loss: 0.1145 - val_accuracy: 0.9667\n",
      "Epoch 7/30\n",
      "120/120 [==============================] - 0s 3ms/step - loss: 0.1234 - accuracy: 0.9617 - val_loss: 0.0869 - val_accuracy: 0.9867\n",
      "Epoch 8/30\n",
      "120/120 [==============================] - 0s 3ms/step - loss: 0.0898 - accuracy: 0.9733 - val_loss: 0.0644 - val_accuracy: 1.0000\n",
      "Epoch 9/30\n",
      "120/120 [==============================] - 0s 4ms/step - loss: 0.0693 - accuracy: 0.9867 - val_loss: 0.0500 - val_accuracy: 1.0000\n",
      "Epoch 10/30\n",
      "120/120 [==============================] - 0s 4ms/step - loss: 0.0570 - accuracy: 0.9867 - val_loss: 0.0422 - val_accuracy: 1.0000\n",
      "Epoch 11/30\n",
      "120/120 [==============================] - 0s 4ms/step - loss: 0.0484 - accuracy: 0.9900 - val_loss: 0.0367 - val_accuracy: 1.0000\n",
      "Epoch 12/30\n",
      "120/120 [==============================] - 0s 4ms/step - loss: 0.0427 - accuracy: 0.9917 - val_loss: 0.0301 - val_accuracy: 1.0000\n",
      "Epoch 13/30\n",
      "120/120 [==============================] - 0s 4ms/step - loss: 0.0351 - accuracy: 0.9933 - val_loss: 0.0231 - val_accuracy: 1.0000\n",
      "Epoch 14/30\n",
      "120/120 [==============================] - 0s 4ms/step - loss: 0.0311 - accuracy: 0.9967 - val_loss: 0.0217 - val_accuracy: 1.0000\n",
      "Epoch 15/30\n",
      "120/120 [==============================] - 0s 4ms/step - loss: 0.0279 - accuracy: 0.9950 - val_loss: 0.0171 - val_accuracy: 1.0000\n",
      "Epoch 16/30\n",
      "120/120 [==============================] - 0s 4ms/step - loss: 0.0241 - accuracy: 0.9967 - val_loss: 0.0201 - val_accuracy: 1.0000\n",
      "Epoch 17/30\n",
      "120/120 [==============================] - 0s 4ms/step - loss: 0.0228 - accuracy: 0.9983 - val_loss: 0.0121 - val_accuracy: 1.0000\n",
      "Epoch 18/30\n",
      "120/120 [==============================] - 0s 4ms/step - loss: 0.0198 - accuracy: 0.9967 - val_loss: 0.0102 - val_accuracy: 1.0000\n",
      "Epoch 19/30\n",
      "120/120 [==============================] - 0s 4ms/step - loss: 0.0174 - accuracy: 0.9983 - val_loss: 0.0095 - val_accuracy: 1.0000\n",
      "Epoch 20/30\n",
      "120/120 [==============================] - 0s 4ms/step - loss: 0.0161 - accuracy: 0.9967 - val_loss: 0.0078 - val_accuracy: 1.0000\n",
      "Epoch 21/30\n",
      "120/120 [==============================] - 0s 4ms/step - loss: 0.0154 - accuracy: 0.9983 - val_loss: 0.0072 - val_accuracy: 1.0000\n",
      "Epoch 22/30\n",
      "120/120 [==============================] - 0s 4ms/step - loss: 0.0135 - accuracy: 0.9983 - val_loss: 0.0068 - val_accuracy: 1.0000\n",
      "Epoch 23/30\n",
      "120/120 [==============================] - 0s 4ms/step - loss: 0.0126 - accuracy: 0.9983 - val_loss: 0.0056 - val_accuracy: 1.0000\n",
      "Epoch 24/30\n",
      "120/120 [==============================] - 0s 3ms/step - loss: 0.0122 - accuracy: 0.9983 - val_loss: 0.0047 - val_accuracy: 1.0000\n",
      "Epoch 25/30\n",
      "120/120 [==============================] - 0s 4ms/step - loss: 0.0110 - accuracy: 0.9983 - val_loss: 0.0057 - val_accuracy: 1.0000\n",
      "Epoch 26/30\n",
      "120/120 [==============================] - 0s 4ms/step - loss: 0.0100 - accuracy: 0.9983 - val_loss: 0.0047 - val_accuracy: 1.0000\n",
      "Epoch 27/30\n",
      "120/120 [==============================] - 0s 4ms/step - loss: 0.0091 - accuracy: 0.9983 - val_loss: 0.0032 - val_accuracy: 1.0000\n",
      "Epoch 28/30\n",
      "120/120 [==============================] - 0s 4ms/step - loss: 0.0089 - accuracy: 0.9983 - val_loss: 0.0041 - val_accuracy: 1.0000\n",
      "Epoch 29/30\n",
      "120/120 [==============================] - 0s 4ms/step - loss: 0.0082 - accuracy: 0.9983 - val_loss: 0.0048 - val_accuracy: 1.0000\n",
      "Epoch 30/30\n",
      "120/120 [==============================] - 0s 3ms/step - loss: 0.0082 - accuracy: 0.9983 - val_loss: 0.0026 - val_accuracy: 1.0000\n"
     ]
    }
   ],
   "source": [
    "model.compile(loss=loss_function_used, optimizer=tf.keras.optimizers.Adam(lr=0.001), metrics=['accuracy'])\n",
    "history = model.fit(X_training, Targets_training, epochs=30, batch_size=5, verbose=1, validation_split=0.2)"
   ]
  },
  {
   "cell_type": "markdown",
   "metadata": {},
   "source": [
    "We will now use the trained model to make predictions on an unseen test dataset.\n"
   ]
  },
  {
   "cell_type": "code",
   "execution_count": 16,
   "metadata": {
    "tags": []
   },
   "outputs": [
    {
     "name": "stdout",
     "output_type": "stream",
     "text": [
      "8/8 [==============================] - 0s 3ms/step - loss: 0.0116 - accuracy: 1.0000\n",
      "Test results - Loss: 0.011559602804481983 - Accuracy: 100.0%\n"
     ]
    }
   ],
   "source": [
    "test_results = model.evaluate(X_testing, Targets_testing, verbose=1)\n",
    "print(f'Test results - Loss: {test_results[0]} - Accuracy: {test_results[1]*100}%')"
   ]
  },
  {
   "cell_type": "code",
   "execution_count": 17,
   "metadata": {
    "tags": []
   },
   "outputs": [],
   "source": [
    "class Onehot2Int(object):\n",
    "\n",
    "    def __init__(self, model):\n",
    "        self.model = model\n",
    "\n",
    "    def predict(self, X):\n",
    "        y_pred = self.model.predict(X)\n",
    "        return np.argmax(y_pred, axis=1)\n",
    "\n",
    "# fit keras_model\n",
    "keras_model_no_ohe = Onehot2Int(model)"
   ]
  },
  {
   "cell_type": "code",
   "execution_count": 18,
   "metadata": {
    "tags": []
   },
   "outputs": [
    {
     "name": "stdout",
     "output_type": "stream",
     "text": [
      "9600/9600 [==============================] - 15s 2ms/step\n"
     ]
    },
    {
     "data": {
      "image/png": "[encoded data removed]",
      "text/plain": [
       "<Figure size 640x480 with 1 Axes>"
      ]
     },
     "metadata": {},
     "output_type": "display_data"
    }
   ],
   "source": [
    "# Plot decision boundary\n",
    "plot_decision_regions(X_testing, np.argmax(Targets_testing, axis=1), clf=keras_model_no_ohe, legend=3)\n",
    "plt.show()"
   ]
  },
  {
   "cell_type": "markdown",
   "metadata": {},
   "source": [
    "## Example: MNIST Hand-Written Digits\n"
   ]
  },
  {
   "cell_type": "markdown",
   "metadata": {},
   "source": [
    "Let us first load our MNIST hand-written dataset using the Keras library.\n"
   ]
  },
  {
   "cell_type": "code",
   "execution_count": 19,
   "metadata": {
    "tags": []
   },
   "outputs": [
    {
     "name": "stdout",
     "output_type": "stream",
     "text": [
      "Downloading data from https://storage.googleapis.com/tensorflow/tf-keras-datasets/mnist.npz\n",
      "11490434/11490434 [==============================] - 0s 0us/step\n"
     ]
    }
   ],
   "source": [
    "(X_train, y_train), (X_test, y_test) = mnist.load_data() "
   ]
  },
  {
   "cell_type": "code",
   "execution_count": 20,
   "metadata": {
    "tags": []
   },
   "outputs": [
    {
     "name": "stdout",
     "output_type": "stream",
     "text": [
      "X_train shape (60000, 28, 28)\n",
      "y_train shape (60000,)\n",
      "X_test shape (10000, 28, 28)\n",
      "y_test shape (10000,)\n"
     ]
    }
   ],
   "source": [
    "print(\"X_train shape\", X_train.shape)\n",
    "print(\"y_train shape\", y_train.shape)\n",
    "print(\"X_test shape\", X_test.shape)\n",
    "print(\"y_test shape\", y_test.shape)"
   ]
  },
  {
   "cell_type": "markdown",
   "metadata": {},
   "source": [
    "Now we can plot some sample digits from the training set.\n"
   ]
  },
  {
   "cell_type": "code",
   "execution_count": 21,
   "metadata": {
    "tags": []
   },
   "outputs": [
    {
     "data": {
      "image/png": "[encoded data removed]",
      "text/plain": [
       "<Figure size 600x600 with 4 Axes>"
      ]
     },
     "metadata": {},
     "output_type": "display_data"
    }
   ],
   "source": [
    "plt.rcParams['figure.figsize'] = (6,6) \n",
    "\n",
    "for i in range(4):\n",
    "    plt.subplot(2,2,i+1)\n",
    "    num = random.randint(0, len(X_train))\n",
    "    plt.imshow(X_train[num], cmap='gray', interpolation='none')\n",
    "    plt.title(\"class {}\".format(y_train[num]))\n",
    "    \n",
    "plt.tight_layout()"
   ]
  },
  {
   "cell_type": "markdown",
   "metadata": {},
   "source": [
    "Each image is on a grayscale (that is, only 1 channel) and is of size 28x28. We need to flatten each image by reshaping our matrix from 28x28 to a 784-length vector.\n"
   ]
  },
  {
   "cell_type": "code",
   "execution_count": 22,
   "metadata": {
    "tags": []
   },
   "outputs": [
    {
     "name": "stdout",
     "output_type": "stream",
     "text": [
      "(60000, 784)\n",
      "(10000, 784)\n"
     ]
    }
   ],
   "source": [
    "X_train = X_train.reshape(X_train.shape[0], X_train.shape[1]* X_train.shape[2])\n",
    "X_test = X_test.reshape(X_test.shape[0], X_test.shape[1] * X_test.shape[2])\n",
    "\n",
    "print(X_train.shape)\n",
    "print(X_test.shape)"
   ]
  },
  {
   "cell_type": "markdown",
   "metadata": {},
   "source": [
    "Next, we need to change integers to 32-bit floating point numbers. We would also need to normalize our input to be in the range [0, 1], rather than [0-255].\n"
   ]
  },
  {
   "cell_type": "code",
   "execution_count": 23,
   "metadata": {
    "tags": []
   },
   "outputs": [],
   "source": [
    "X_train = X_train.astype('float32')\n",
    "X_test = X_test.astype('float32')\n",
    "\n",
    "X_train /= 255\n",
    "X_test /= 255"
   ]
  },
  {
   "cell_type": "markdown",
   "metadata": {},
   "source": [
    "Our target variable, `y`, is an array of the following form:\n"
   ]
  },
  {
   "cell_type": "code",
   "execution_count": 24,
   "metadata": {
    "tags": []
   },
   "outputs": [
    {
     "data": {
      "text/plain": [
       "array([5, 0, 4, ..., 5, 6, 8], dtype=uint8)"
      ]
     },
     "execution_count": 24,
     "metadata": {},
     "output_type": "execute_result"
    }
   ],
   "source": [
    "y_train"
   ]
  },
  {
   "cell_type": "markdown",
   "metadata": {},
   "source": [
    "The categorical cross-entropy function expects that we provide one-hot encoded representations of the labels and predictions. Let us one-hot encode our target, `y`, using the `OneHotEncoder()` function from sklearn.\n"
   ]
  },
  {
   "cell_type": "code",
   "execution_count": 25,
   "metadata": {
    "tags": []
   },
   "outputs": [
    {
     "name": "stdout",
     "output_type": "stream",
     "text": [
      "[array([0, 1, 2, 3, 4, 5, 6, 7, 8, 9], dtype=uint8)]\n"
     ]
    }
   ],
   "source": [
    "enc = OneHotEncoder(sparse=False)\n",
    "enc.fit(y_train.reshape(-1, 1))\n",
    "print(enc.categories_)"
   ]
  },
  {
   "cell_type": "code",
   "execution_count": 26,
   "metadata": {
    "tags": []
   },
   "outputs": [],
   "source": [
    "y_train_enc = enc.transform(y_train.reshape(-1,1))\n",
    "y_test_enc = enc.transform(y_test.reshape(-1,1))"
   ]
  },
  {
   "cell_type": "markdown",
   "metadata": {},
   "source": [
    "In this multi-class classification task, we want to interpret our logistic regression model's results as a probability distribution; that is the model should output a vector that represents the probability of the given image belonging to each of the 10 classes. \n",
    "\n",
    "All elements in the vector should fall into the \\[0,1] range and sum up to 1. In order to set up our classification problem this way, we can feed the model output to a softmax function to produce probabilities.\n"
   ]
  },
  {
   "cell_type": "markdown",
   "metadata": {},
   "source": [
    "For training our multi-class logistic classifier, we need a loss function. Categorical cross-entropy is a loss function widely used with softmax. We need to minimize this loss function in order to determine an optimal set of parameters.\n"
   ]
  },
  {
   "cell_type": "markdown",
   "metadata": {},
   "source": [
    "We will build a simple CNN model with two hidden layers, that uses softmax as the activation function, and categorical cross-entropy as the loss function. Let's define the architecture of our model:\n"
   ]
  },
  {
   "cell_type": "code",
   "execution_count": 28,
   "metadata": {
    "tags": []
   },
   "outputs": [
    {
     "data": {
      "text/plain": [
       "784"
      ]
     },
     "execution_count": 28,
     "metadata": {},
     "output_type": "execute_result"
    }
   ],
   "source": [
    "X_train.shape[1]"
   ]
  },
  {
   "cell_type": "code",
   "execution_count": 29,
   "metadata": {
    "tags": []
   },
   "outputs": [],
   "source": [
    "feature_vector_shape = X_train.shape[1]\n",
    "input_shape = (feature_vector_shape,)\n",
    "num_classes = 10\n",
    "\n",
    "loss_function_used=CategoricalCrossentropy(from_logits=True)\n",
    "\n",
    "model = Sequential()\n",
    "model.add(Dense(12, input_shape=input_shape, activation='relu', kernel_initializer='he_uniform'))\n",
    "model.add(Dense(8, activation='relu', kernel_initializer='he_uniform'))\n",
    "model.add(Dense(num_classes, activation='softmax'))"
   ]
  },
  {
   "cell_type": "code",
   "execution_count": 30,
   "metadata": {
    "tags": []
   },
   "outputs": [
    {
     "name": "stderr",
     "output_type": "stream",
     "text": [
      "WARNING:absl:`lr` is deprecated, please use `learning_rate` instead, or use the legacy optimizer, e.g.,tf.keras.optimizers.legacy.Adam.\n"
     ]
    },
    {
     "name": "stdout",
     "output_type": "stream",
     "text": [
      "Epoch 1/25\n"
     ]
    },
    {
     "name": "stderr",
     "output_type": "stream",
     "text": [
      "/home/jupyterlab/conda/envs/python/lib/python3.7/site-packages/keras/backend.py:5535: UserWarning: \"`categorical_crossentropy` received `from_logits=True`, but the `output` argument was produced by a Softmax activation and thus does not represent logits. Was this intended?\n",
      "  output, from_logits, \"Softmax\", \"categorical_crossentropy\"\n"
     ]
    },
    {
     "name": "stdout",
     "output_type": "stream",
     "text": [
      "9600/9600 [==============================] - 37s 4ms/step - loss: 0.4807 - accuracy: 0.8588 - val_loss: 0.3012 - val_accuracy: 0.9146\n",
      "Epoch 2/25\n",
      "9600/9600 [==============================] - 37s 4ms/step - loss: 0.2683 - accuracy: 0.9214 - val_loss: 0.2286 - val_accuracy: 0.9358\n",
      "Epoch 3/25\n",
      "9600/9600 [==============================] - 35s 4ms/step - loss: 0.2320 - accuracy: 0.9337 - val_loss: 0.2194 - val_accuracy: 0.9374\n",
      "Epoch 4/25\n",
      "9600/9600 [==============================] - 35s 4ms/step - loss: 0.2111 - accuracy: 0.9389 - val_loss: 0.2138 - val_accuracy: 0.9404\n",
      "Epoch 5/25\n",
      "9600/9600 [==============================] - 36s 4ms/step - loss: 0.1977 - accuracy: 0.9423 - val_loss: 0.2016 - val_accuracy: 0.9444\n",
      "Epoch 6/25\n",
      "9600/9600 [==============================] - 35s 4ms/step - loss: 0.1855 - accuracy: 0.9458 - val_loss: 0.2066 - val_accuracy: 0.9411\n",
      "Epoch 7/25\n",
      "9600/9600 [==============================] - 37s 4ms/step - loss: 0.1786 - accuracy: 0.9474 - val_loss: 0.2074 - val_accuracy: 0.9410\n",
      "Epoch 8/25\n",
      "9600/9600 [==============================] - 35s 4ms/step - loss: 0.1732 - accuracy: 0.9486 - val_loss: 0.2059 - val_accuracy: 0.9432\n",
      "Epoch 9/25\n",
      "9600/9600 [==============================] - 36s 4ms/step - loss: 0.1678 - accuracy: 0.9508 - val_loss: 0.1980 - val_accuracy: 0.9442\n",
      "Epoch 10/25\n",
      "9600/9600 [==============================] - 35s 4ms/step - loss: 0.1649 - accuracy: 0.9524 - val_loss: 0.2001 - val_accuracy: 0.9457\n",
      "Epoch 11/25\n",
      "9600/9600 [==============================] - 36s 4ms/step - loss: 0.1612 - accuracy: 0.9527 - val_loss: 0.2022 - val_accuracy: 0.9460\n",
      "Epoch 12/25\n",
      "9600/9600 [==============================] - 36s 4ms/step - loss: 0.1583 - accuracy: 0.9531 - val_loss: 0.1949 - val_accuracy: 0.9462\n",
      "Epoch 13/25\n",
      "9600/9600 [==============================] - 35s 4ms/step - loss: 0.1547 - accuracy: 0.9549 - val_loss: 0.1901 - val_accuracy: 0.9492\n",
      "Epoch 14/25\n",
      "9600/9600 [==============================] - 37s 4ms/step - loss: 0.1507 - accuracy: 0.9560 - val_loss: 0.1936 - val_accuracy: 0.9482\n",
      "Epoch 15/25\n",
      "9600/9600 [==============================] - 35s 4ms/step - loss: 0.1492 - accuracy: 0.9557 - val_loss: 0.2084 - val_accuracy: 0.9442\n",
      "Epoch 16/25\n",
      "9600/9600 [==============================] - 37s 4ms/step - loss: 0.1461 - accuracy: 0.9562 - val_loss: 0.1887 - val_accuracy: 0.9484\n",
      "Epoch 17/25\n",
      "9600/9600 [==============================] - 36s 4ms/step - loss: 0.1454 - accuracy: 0.9581 - val_loss: 0.2017 - val_accuracy: 0.9470\n",
      "Epoch 18/25\n",
      "9600/9600 [==============================] - 38s 4ms/step - loss: 0.1423 - accuracy: 0.9578 - val_loss: 0.2020 - val_accuracy: 0.9461\n",
      "Epoch 19/25\n",
      "9600/9600 [==============================] - 37s 4ms/step - loss: 0.1405 - accuracy: 0.9589 - val_loss: 0.2014 - val_accuracy: 0.9457\n",
      "Epoch 20/25\n",
      "9600/9600 [==============================] - 37s 4ms/step - loss: 0.1385 - accuracy: 0.9587 - val_loss: 0.2106 - val_accuracy: 0.9455\n",
      "Epoch 21/25\n",
      "9600/9600 [==============================] - 35s 4ms/step - loss: 0.1373 - accuracy: 0.9598 - val_loss: 0.1987 - val_accuracy: 0.9483\n",
      "Epoch 22/25\n",
      "9600/9600 [==============================] - 35s 4ms/step - loss: 0.1346 - accuracy: 0.9597 - val_loss: 0.1953 - val_accuracy: 0.9492\n",
      "Epoch 23/25\n",
      "9600/9600 [==============================] - 36s 4ms/step - loss: 0.1341 - accuracy: 0.9595 - val_loss: 0.1986 - val_accuracy: 0.9474\n",
      "Epoch 24/25\n",
      "9600/9600 [==============================] - 35s 4ms/step - loss: 0.1314 - accuracy: 0.9607 - val_loss: 0.1998 - val_accuracy: 0.9492\n",
      "Epoch 25/25\n",
      "9600/9600 [==============================] - 35s 4ms/step - loss: 0.1303 - accuracy: 0.9617 - val_loss: 0.2064 - val_accuracy: 0.9477\n"
     ]
    }
   ],
   "source": [
    "model.compile(loss=loss_function_used, optimizer=tf.keras.optimizers.Adam(lr=0.001), metrics=['accuracy'])\n",
    "history = model.fit(X_train, y_train_enc, epochs=25, batch_size=5, verbose=1, validation_split=0.2)\n"
   ]
  },
  {
   "cell_type": "code",
   "execution_count": 31,
   "metadata": {
    "tags": []
   },
   "outputs": [
    {
     "name": "stdout",
     "output_type": "stream",
     "text": [
      "313/313 [==============================] - 1s 2ms/step - loss: 0.2045 - accuracy: 0.9463\n",
      "Test results - Loss: 0.20453821122646332 - Accuracy: 94.63000297546387%\n"
     ]
    }
   ],
   "source": [
    "test_results = model.evaluate(X_test, y_test_enc, verbose=1)\n",
    "print(f'Test results - Loss: {test_results[0]} - Accuracy: {test_results[1]*100}%')"
   ]
  },
  {
   "cell_type": "markdown",
   "metadata": {},
   "source": [
    "## Example: Single-Digit House Number Recognition\n"
   ]
  },
  {
   "cell_type": "markdown",
   "metadata": {},
   "source": [
    "Recognizing multi-digit text from photographs is a hard problem. In this example, we deal with a simpler sub-problem that involves using a convolutional neural network with the categorical cross-entropy loss function to build a classifier that identifies single-digit numbers from custom images.\n"
   ]
  },
  {
   "cell_type": "markdown",
   "metadata": {},
   "source": [
    "First, let's load in a custom image using a URL. \\[Image from [comforthouse](https://www.comforthouse.com/floating-1-number-sign.html?utm_medium=Exinfluencer&utm_source=Exinfluencer&utm_content=000026UJ&utm_term=10006555&utm_id=NA-SkillsNetwork-Channel-SkillsNetworkCoursesIBMDeveloperSkillsNetworkML311Coursera35714171-2022-01-01).]\n"
   ]
  },
  {
   "cell_type": "code",
   "execution_count": 48,
   "metadata": {
    "tags": []
   },
   "outputs": [
    {
     "data": {
      "image/png": "[encoded data removed]",
      "text/plain": [
       "<PIL.Image.Image image mode=RGB size=225x225 at 0x7F5A457A12D0>"
      ]
     },
     "execution_count": 48,
     "metadata": {},
     "output_type": "execute_result"
    }
   ],
   "source": [
    "URL = 'https://cf-courses-data.s3.us.cloud-object-storage.appdomain.cloud/IBMDeveloperSkillsNetwork-ML311-Coursera/images/house_number_5.jpeg'\n",
    "image = Image.open(urlopen(URL)).convert('RGB')\n",
    "image"
   ]
  },
  {
   "cell_type": "markdown",
   "metadata": {},
   "source": [
    "Let us define a CNN architecture that is similar to one used for MNIST hand-written digit classification. We use a softmax as the activation function and categorical cross-entropy as the loss function as this is a multi-class classification problem.\n"
   ]
  },
  {
   "cell_type": "code",
   "execution_count": 33,
   "metadata": {
    "tags": []
   },
   "outputs": [
    {
     "name": "stderr",
     "output_type": "stream",
     "text": [
      "WARNING:absl:`lr` is deprecated, please use `learning_rate` instead, or use the legacy optimizer, e.g.,tf.keras.optimizers.legacy.Adam.\n"
     ]
    },
    {
     "name": "stdout",
     "output_type": "stream",
     "text": [
      "Epoch 1/25\n",
      "9600/9600 [==============================] - 40s 4ms/step - loss: 0.4924 - accuracy: 0.8508 - val_loss: 0.2894 - val_accuracy: 0.9197\n",
      "Epoch 2/25\n",
      "9600/9600 [==============================] - 35s 4ms/step - loss: 0.2768 - accuracy: 0.9187 - val_loss: 0.2417 - val_accuracy: 0.9326\n",
      "Epoch 3/25\n",
      "9600/9600 [==============================] - 38s 4ms/step - loss: 0.2409 - accuracy: 0.9288 - val_loss: 0.2336 - val_accuracy: 0.9343\n",
      "Epoch 4/25\n",
      "9600/9600 [==============================] - 36s 4ms/step - loss: 0.2233 - accuracy: 0.9344 - val_loss: 0.2504 - val_accuracy: 0.9278\n",
      "Epoch 5/25\n",
      "9600/9600 [==============================] - 36s 4ms/step - loss: 0.2108 - accuracy: 0.9379 - val_loss: 0.2428 - val_accuracy: 0.9326\n",
      "Epoch 6/25\n",
      "9600/9600 [==============================] - 37s 4ms/step - loss: 0.2032 - accuracy: 0.9399 - val_loss: 0.2479 - val_accuracy: 0.9295\n",
      "Epoch 7/25\n",
      "9600/9600 [==============================] - 35s 4ms/step - loss: 0.1967 - accuracy: 0.9422 - val_loss: 0.2247 - val_accuracy: 0.9377\n",
      "Epoch 8/25\n",
      "9600/9600 [==============================] - 37s 4ms/step - loss: 0.1920 - accuracy: 0.9435 - val_loss: 0.2274 - val_accuracy: 0.9373\n",
      "Epoch 9/25\n",
      "9600/9600 [==============================] - 34s 4ms/step - loss: 0.1876 - accuracy: 0.9455 - val_loss: 0.2297 - val_accuracy: 0.9371\n",
      "Epoch 10/25\n",
      "9600/9600 [==============================] - 37s 4ms/step - loss: 0.1831 - accuracy: 0.9459 - val_loss: 0.2255 - val_accuracy: 0.9367\n",
      "Epoch 11/25\n",
      "9600/9600 [==============================] - 35s 4ms/step - loss: 0.1809 - accuracy: 0.9456 - val_loss: 0.2178 - val_accuracy: 0.9398\n",
      "Epoch 12/25\n",
      "9600/9600 [==============================] - 37s 4ms/step - loss: 0.1764 - accuracy: 0.9474 - val_loss: 0.2409 - val_accuracy: 0.9337\n",
      "Epoch 13/25\n",
      "9600/9600 [==============================] - 36s 4ms/step - loss: 0.1757 - accuracy: 0.9481 - val_loss: 0.2180 - val_accuracy: 0.9398\n",
      "Epoch 14/25\n",
      "9600/9600 [==============================] - 35s 4ms/step - loss: 0.1721 - accuracy: 0.9473 - val_loss: 0.2363 - val_accuracy: 0.9342\n",
      "Epoch 15/25\n",
      "9600/9600 [==============================] - 36s 4ms/step - loss: 0.1704 - accuracy: 0.9488 - val_loss: 0.2322 - val_accuracy: 0.9377\n",
      "Epoch 16/25\n",
      "9600/9600 [==============================] - 35s 4ms/step - loss: 0.1676 - accuracy: 0.9505 - val_loss: 0.2239 - val_accuracy: 0.9404\n",
      "Epoch 17/25\n",
      "9600/9600 [==============================] - 36s 4ms/step - loss: 0.1657 - accuracy: 0.9504 - val_loss: 0.2219 - val_accuracy: 0.9408\n",
      "Epoch 18/25\n",
      "9600/9600 [==============================] - 36s 4ms/step - loss: 0.1642 - accuracy: 0.9503 - val_loss: 0.2240 - val_accuracy: 0.9398\n",
      "Epoch 19/25\n",
      "9600/9600 [==============================] - 36s 4ms/step - loss: 0.1619 - accuracy: 0.9514 - val_loss: 0.2547 - val_accuracy: 0.9323\n",
      "Epoch 20/25\n",
      "9600/9600 [==============================] - 35s 4ms/step - loss: 0.1614 - accuracy: 0.9521 - val_loss: 0.2461 - val_accuracy: 0.9337\n",
      "Epoch 21/25\n",
      "9600/9600 [==============================] - 37s 4ms/step - loss: 0.1595 - accuracy: 0.9516 - val_loss: 0.2234 - val_accuracy: 0.9408\n",
      "Epoch 22/25\n",
      "9600/9600 [==============================] - 38s 4ms/step - loss: 0.1579 - accuracy: 0.9529 - val_loss: 0.2347 - val_accuracy: 0.9375\n",
      "Epoch 23/25\n",
      "9600/9600 [==============================] - 36s 4ms/step - loss: 0.1575 - accuracy: 0.9529 - val_loss: 0.2347 - val_accuracy: 0.9377\n",
      "Epoch 24/25\n",
      "9600/9600 [==============================] - 37s 4ms/step - loss: 0.1563 - accuracy: 0.9530 - val_loss: 0.2384 - val_accuracy: 0.9367\n",
      "Epoch 25/25\n",
      "9600/9600 [==============================] - 36s 4ms/step - loss: 0.1543 - accuracy: 0.9533 - val_loss: 0.2268 - val_accuracy: 0.9407\n"
     ]
    }
   ],
   "source": [
    "feature_vector_shape,input_shape = 784,784\n",
    "num_classes = 10\n",
    "\n",
    "loss_function_used = CategoricalCrossentropy(from_logits=True)\n",
    "model = Sequential()\n",
    "model.add(Dense(12, input_shape=(input_shape,), activation='relu', kernel_initializer='he_uniform'))\n",
    "model.add(Dense(8, activation='relu', kernel_initializer='he_uniform'))\n",
    "model.add(Dense(num_classes, activation='softmax'))\n",
    "\n",
    "model.compile(loss=loss_function_used, optimizer=tf.keras.optimizers.Adam(lr=0.001), metrics=['accuracy'])\n",
    "history = model.fit(X_train, y_train_enc, epochs=25, batch_size=5, verbose=1, validation_split=0.2)"
   ]
  },
  {
   "cell_type": "markdown",
   "metadata": {},
   "source": [
    "We must now pre-process our raw input images to be grayscale and 28x28 in size.\n"
   ]
  },
  {
   "cell_type": "code",
   "execution_count": 36,
   "metadata": {
    "tags": []
   },
   "outputs": [
    {
     "data": {
      "text/plain": [
       "PIL.Image.Image"
      ]
     },
     "execution_count": 36,
     "metadata": {},
     "output_type": "execute_result"
    }
   ],
   "source": [
    "type(image)"
   ]
  },
  {
   "cell_type": "code",
   "execution_count": 37,
   "metadata": {
    "tags": []
   },
   "outputs": [
    {
     "data": {
      "image/png": "[encoded data removed]",
      "text/plain": [
       "<PIL.Image.Image image mode=L size=28x28 at 0x7F5A45957D90>"
      ]
     },
     "execution_count": 37,
     "metadata": {},
     "output_type": "execute_result"
    }
   ],
   "source": [
    "img_rows, img_cols = 28, 28\n",
    "img = Image.fromarray(np.uint8(image)).convert('L')\n",
    "img_gray = img.resize((img_rows, img_cols), Image.ANTIALIAS)\n",
    "img_gray"
   ]
  },
  {
   "cell_type": "markdown",
   "metadata": {},
   "source": [
    "We will now convert the image to an array, and reshape it such that it has a dimension of (1, 784).\n"
   ]
  },
  {
   "cell_type": "code",
   "execution_count": 38,
   "metadata": {
    "tags": []
   },
   "outputs": [],
   "source": [
    "arr = np.array(img_gray)\n",
    "arr = arr.reshape((img_cols*img_rows))\n",
    "arr = np.expand_dims(arr, axis=0)"
   ]
  },
  {
   "cell_type": "code",
   "execution_count": 40,
   "metadata": {
    "tags": []
   },
   "outputs": [
    {
     "data": {
      "text/plain": [
       "(1, 784)"
      ]
     },
     "execution_count": 40,
     "metadata": {},
     "output_type": "execute_result"
    }
   ],
   "source": [
    "arr.shape"
   ]
  },
  {
   "cell_type": "code",
   "execution_count": 42,
   "metadata": {
    "tags": []
   },
   "outputs": [],
   "source": [
    "# arr"
   ]
  },
  {
   "cell_type": "markdown",
   "metadata": {},
   "source": [
    "Finally, we will feed the array as an input to our model, and use the argmax function to determine the most likely digit label.\n"
   ]
  },
  {
   "cell_type": "code",
   "execution_count": 44,
   "metadata": {
    "tags": []
   },
   "outputs": [
    {
     "name": "stdout",
     "output_type": "stream",
     "text": [
      "1/1 [==============================] - 0s 47ms/step\n"
     ]
    },
    {
     "data": {
      "text/plain": [
       "3"
      ]
     },
     "execution_count": 44,
     "metadata": {},
     "output_type": "execute_result"
    }
   ],
   "source": [
    "prediction = model.predict(arr)\n",
    "np.argmax(prediction)"
   ]
  },
  {
   "cell_type": "markdown",
   "metadata": {},
   "source": [
    "We got it right! You are free to experiment with different custom images by simply changing the URL.\n"
   ]
  },
  {
   "cell_type": "markdown",
   "metadata": {},
   "source": [
    "# Exercises\n"
   ]
  },
  {
   "cell_type": "markdown",
   "metadata": {},
   "source": [
    "For these exercises, we will be using the Fashion-MNIST dataset. It consists of 60,000 28x28 grayscale training images and 10,000 test images for 10 different categories, listed below:\n"
   ]
  },
  {
   "cell_type": "markdown",
   "metadata": {},
   "source": [
    "0.  T-shirt\n",
    "1.  Trouser\n",
    "2.  Pullover\n",
    "3.  Dress\n",
    "4.  Coat\n",
    "5.  Sandal\n",
    "6.  Shirt\n",
    "7.  Sneaker\n",
    "8.  Bag\n",
    "9.  Ankle boot\n"
   ]
  },
  {
   "cell_type": "markdown",
   "metadata": {},
   "source": [
    "### Exercise 1 - Loading and plotting the images\n"
   ]
  },
  {
   "cell_type": "markdown",
   "metadata": {},
   "source": [
    "Similar to the MNIST hand-written digits dataset, Fashion-MNIST is available for loading through Keras. Load the dataset using Keras in a similar manner. Plot some sample images from the training set.\n"
   ]
  },
  {
   "cell_type": "code",
   "execution_count": 49,
   "metadata": {
    "tags": []
   },
   "outputs": [
    {
     "name": "stdout",
     "output_type": "stream",
     "text": [
      "Downloading data from https://storage.googleapis.com/tensorflow/tf-keras-datasets/train-labels-idx1-ubyte.gz\n",
      "29515/29515 [==============================] - 0s 0us/step\n",
      "Downloading data from https://storage.googleapis.com/tensorflow/tf-keras-datasets/train-images-idx3-ubyte.gz\n",
      "26421880/26421880 [==============================] - 0s 0us/step\n",
      "Downloading data from https://storage.googleapis.com/tensorflow/tf-keras-datasets/t10k-labels-idx1-ubyte.gz\n",
      "5148/5148 [==============================] - 0s 0us/step\n",
      "Downloading data from https://storage.googleapis.com/tensorflow/tf-keras-datasets/t10k-images-idx3-ubyte.gz\n",
      "4422102/4422102 [==============================] - 0s 0us/step\n",
      "X_train shape (60000, 28, 28)\n",
      "y_train shape (60000,)\n",
      "X_test shape (10000, 28, 28)\n",
      "y_test shape (10000,)\n"
     ]
    }
   ],
   "source": [
    "# Enter your solution here\n",
    "(X_train, y_train), (X_test, y_test) = fashion_mnist.load_data()\n",
    "\n",
    "print(\"X_train shape\", X_train.shape)\n",
    "print(\"y_train shape\", y_train.shape)\n",
    "print(\"X_test shape\", X_test.shape)\n",
    "print(\"y_test shape\", y_test.shape)\n"
   ]
  },
  {
   "cell_type": "code",
   "execution_count": 54,
   "metadata": {
    "tags": []
   },
   "outputs": [
    {
     "data": {
      "image/png": "[encoded data removed]",
      "text/plain": [
       "<Figure size 600x600 with 4 Axes>"
      ]
     },
     "metadata": {},
     "output_type": "display_data"
    }
   ],
   "source": [
    "plt.rcParams['figure.figsize'] = (6,6) \n",
    "\n",
    "for i in range(4):\n",
    "    plt.subplot(2,2,i+1)\n",
    "    num = random.randint(0, len(X_train))\n",
    "    plt.imshow(X_train[num], cmap='gray', interpolation='none')\n",
    "    plt.title(\"class {}\".format(y_train[num]))\n",
    "    \n",
    "plt.tight_layout()"
   ]
  },
  {
   "cell_type": "markdown",
   "metadata": {},
   "source": [
    "<details>\n",
    "    <summary>Click here for Solution</summary>\n",
    "\n",
    "```python\n",
    "(X_train, y_train), (X_test, y_test) = fashion_mnist.load_data()\n",
    "\n",
    "\n",
    "plt.rcParams['figure.figsize'] = (6,6) \n",
    "\n",
    "for i in range(4):\n",
    "    plt.subplot(2,2,i+1)\n",
    "    num = random.randint(0, len(X_train))\n",
    "    plt.imshow(X_train[num], cmap='gray', interpolation='none')\n",
    "    plt.title(\"class {}\".format(y_train[num]))\n",
    "    \n",
    "plt.tight_layout()\n",
    "```\n",
    "\n",
    "</details>\n"
   ]
  },
  {
   "cell_type": "markdown",
   "metadata": {},
   "source": [
    "### Exercise 2 - Preparing the data\n"
   ]
  },
  {
   "cell_type": "markdown",
   "metadata": {},
   "source": [
    "Convert all grayscale images of size 28x28 to a 784-length vector. Change integers to 32-bit floating point numbers and normalize the input to be in the range \\[0, 1], rather than \\[0-255].\n"
   ]
  },
  {
   "cell_type": "code",
   "execution_count": 55,
   "metadata": {
    "tags": []
   },
   "outputs": [
    {
     "name": "stdout",
     "output_type": "stream",
     "text": [
      "(60000, 784)\n"
     ]
    }
   ],
   "source": [
    "# Enter your solution here\n",
    "X_train = X_train.reshape(X_train.shape[0], X_train.shape[1] * X_train.shape[2])\n",
    "\n",
    "print(X_train.shape)\n",
    "\n",
    "X_train = X_train.astype('float32')\n",
    "X_train /= 255"
   ]
  },
  {
   "cell_type": "code",
   "execution_count": 56,
   "metadata": {
    "tags": []
   },
   "outputs": [
    {
     "name": "stdout",
     "output_type": "stream",
     "text": [
      "(10000, 784)\n"
     ]
    }
   ],
   "source": [
    "X_test = X_test.reshape(X_test.shape[0], X_test.shape[1] * X_test.shape[2])\n",
    "\n",
    "print(X_test.shape)\n",
    "\n",
    "X_test = X_test.astype('float32')\n",
    "X_test /= 255"
   ]
  },
  {
   "cell_type": "markdown",
   "metadata": {},
   "source": [
    "<details>\n",
    "    <summary>Click here for Solution</summary>\n",
    "\n",
    "```python\n",
    "X_train = X_train.reshape(X_train.shape[0], X_train.shape[1]* X_train.shape[2])\n",
    "X_test = X_test.reshape(X_test.shape[0], X_test.shape[1] * X_test.shape[2])\n",
    "\n",
    "print(X_train.shape)\n",
    "print(X_test.shape)\n",
    "\n",
    "X_train = X_train.astype('float32')\n",
    "X_test = X_test.astype('float32')\n",
    "\n",
    "X_train /= 255\n",
    "X_test /= 255\n",
    "```\n",
    "\n",
    "</details>\n"
   ]
  },
  {
   "cell_type": "markdown",
   "metadata": {},
   "source": [
    "### Exercise 3 - One-hot encoding\n"
   ]
  },
  {
   "cell_type": "markdown",
   "metadata": {},
   "source": [
    "Create one-hot encoded representations of the target variable using the `OneHotEncoder()` function from sklearn.\n"
   ]
  },
  {
   "cell_type": "code",
   "execution_count": 57,
   "metadata": {
    "tags": []
   },
   "outputs": [
    {
     "name": "stdout",
     "output_type": "stream",
     "text": [
      "[array([0, 1, 2, 3, 4, 5, 6, 7, 8, 9], dtype=uint8)]\n"
     ]
    }
   ],
   "source": [
    "# Enter your solution here\n",
    "enc = OneHotEncoder(sparse=False)\n",
    "enc.fit(y_train.reshape(-1, 1))\n",
    "print(enc.categories_)\n",
    "\n",
    "y_train_enc = enc.transform(y_train.reshape(-1,1))\n",
    "y_test_enc = enc.transform(y_test.reshape(-1,1))"
   ]
  },
  {
   "cell_type": "markdown",
   "metadata": {},
   "source": [
    "<details>\n",
    "    <summary>Click here for Solution</summary>\n",
    "\n",
    "```python\n",
    "enc = OneHotEncoder(sparse=False)\n",
    "enc.fit(y_train.reshape(-1, 1))\n",
    "print(enc.categories_)\n",
    "y_train_enc = enc.transform(y_train.reshape(-1,1))\n",
    "y_test_enc = enc.transform(y_test.reshape(-1,1))\n",
    "```\n",
    "\n",
    "</details>\n"
   ]
  },
  {
   "cell_type": "markdown",
   "metadata": {},
   "source": [
    "### Exercise 4 - Build model architecture\n"
   ]
  },
  {
   "cell_type": "markdown",
   "metadata": {},
   "source": [
    "Build a CNN model with 2 hidden layers, that uses softmax as the activation function, and categorical cross-entropy as the loss function.\n"
   ]
  },
  {
   "cell_type": "code",
   "execution_count": 59,
   "metadata": {
    "tags": []
   },
   "outputs": [
    {
     "name": "stderr",
     "output_type": "stream",
     "text": [
      "WARNING:absl:`lr` is deprecated, please use `learning_rate` instead, or use the legacy optimizer, e.g.,tf.keras.optimizers.legacy.Adam.\n"
     ]
    },
    {
     "name": "stdout",
     "output_type": "stream",
     "text": [
      "Epoch 1/25\n"
     ]
    },
    {
     "name": "stderr",
     "output_type": "stream",
     "text": [
      "/home/jupyterlab/conda/envs/python/lib/python3.7/site-packages/keras/backend.py:5535: UserWarning: \"`categorical_crossentropy` received `from_logits=True`, but the `output` argument was produced by a Softmax activation and thus does not represent logits. Was this intended?\n",
      "  output, from_logits, \"Softmax\", \"categorical_crossentropy\"\n"
     ]
    },
    {
     "name": "stdout",
     "output_type": "stream",
     "text": [
      "9600/9600 [==============================] - 38s 4ms/step - loss: 0.6552 - accuracy: 0.7686 - val_loss: 0.5753 - val_accuracy: 0.8090\n",
      "Epoch 2/25\n",
      "9600/9600 [==============================] - 36s 4ms/step - loss: 0.4592 - accuracy: 0.8360 - val_loss: 0.4383 - val_accuracy: 0.8421\n",
      "Epoch 3/25\n",
      "9600/9600 [==============================] - 36s 4ms/step - loss: 0.4266 - accuracy: 0.8453 - val_loss: 0.4246 - val_accuracy: 0.8463\n",
      "Epoch 4/25\n",
      "9600/9600 [==============================] - 35s 4ms/step - loss: 0.4075 - accuracy: 0.8524 - val_loss: 0.4361 - val_accuracy: 0.8383\n",
      "Epoch 5/25\n",
      "9600/9600 [==============================] - 36s 4ms/step - loss: 0.3941 - accuracy: 0.8559 - val_loss: 0.4146 - val_accuracy: 0.8531\n",
      "Epoch 6/25\n",
      "9600/9600 [==============================] - 35s 4ms/step - loss: 0.3853 - accuracy: 0.8615 - val_loss: 0.4327 - val_accuracy: 0.8500\n",
      "Epoch 7/25\n",
      "9600/9600 [==============================] - 36s 4ms/step - loss: 0.3781 - accuracy: 0.8629 - val_loss: 0.4109 - val_accuracy: 0.8517\n",
      "Epoch 8/25\n",
      "9600/9600 [==============================] - 37s 4ms/step - loss: 0.3720 - accuracy: 0.8651 - val_loss: 0.4065 - val_accuracy: 0.8584\n",
      "Epoch 9/25\n",
      "9600/9600 [==============================] - 37s 4ms/step - loss: 0.3667 - accuracy: 0.8674 - val_loss: 0.4219 - val_accuracy: 0.8497\n",
      "Epoch 10/25\n",
      "9600/9600 [==============================] - 36s 4ms/step - loss: 0.3643 - accuracy: 0.8671 - val_loss: 0.4022 - val_accuracy: 0.8580\n",
      "Epoch 11/25\n",
      "9600/9600 [==============================] - 35s 4ms/step - loss: 0.3585 - accuracy: 0.8689 - val_loss: 0.4237 - val_accuracy: 0.8513\n",
      "Epoch 12/25\n",
      "9600/9600 [==============================] - 35s 4ms/step - loss: 0.3558 - accuracy: 0.8701 - val_loss: 0.3931 - val_accuracy: 0.8637\n",
      "Epoch 13/25\n",
      "9600/9600 [==============================] - 35s 4ms/step - loss: 0.3520 - accuracy: 0.8708 - val_loss: 0.4022 - val_accuracy: 0.8573\n",
      "Epoch 14/25\n",
      "9600/9600 [==============================] - 35s 4ms/step - loss: 0.3481 - accuracy: 0.8718 - val_loss: 0.4342 - val_accuracy: 0.8508\n",
      "Epoch 15/25\n",
      "9600/9600 [==============================] - 36s 4ms/step - loss: 0.3459 - accuracy: 0.8720 - val_loss: 0.3970 - val_accuracy: 0.8598\n",
      "Epoch 16/25\n",
      "9600/9600 [==============================] - 37s 4ms/step - loss: 0.3436 - accuracy: 0.8747 - val_loss: 0.4054 - val_accuracy: 0.8623\n",
      "Epoch 17/25\n",
      "9600/9600 [==============================] - 36s 4ms/step - loss: 0.3419 - accuracy: 0.8749 - val_loss: 0.3984 - val_accuracy: 0.8642\n",
      "Epoch 18/25\n",
      "9600/9600 [==============================] - 38s 4ms/step - loss: 0.3389 - accuracy: 0.8759 - val_loss: 0.4028 - val_accuracy: 0.8620\n",
      "Epoch 19/25\n",
      "9600/9600 [==============================] - 36s 4ms/step - loss: 0.3368 - accuracy: 0.8761 - val_loss: 0.4181 - val_accuracy: 0.8568\n",
      "Epoch 20/25\n",
      "9600/9600 [==============================] - 38s 4ms/step - loss: 0.3347 - accuracy: 0.8778 - val_loss: 0.4220 - val_accuracy: 0.8537\n",
      "Epoch 21/25\n",
      "9600/9600 [==============================] - 36s 4ms/step - loss: 0.3320 - accuracy: 0.8774 - val_loss: 0.4227 - val_accuracy: 0.8573\n",
      "Epoch 22/25\n",
      "9600/9600 [==============================] - 38s 4ms/step - loss: 0.3313 - accuracy: 0.8776 - val_loss: 0.4224 - val_accuracy: 0.8565\n",
      "Epoch 23/25\n",
      "9600/9600 [==============================] - 38s 4ms/step - loss: 0.3300 - accuracy: 0.8790 - val_loss: 0.4111 - val_accuracy: 0.8611\n",
      "Epoch 24/25\n",
      "9600/9600 [==============================] - 36s 4ms/step - loss: 0.3300 - accuracy: 0.8782 - val_loss: 0.4231 - val_accuracy: 0.8555\n",
      "Epoch 25/25\n",
      "9600/9600 [==============================] - 37s 4ms/step - loss: 0.3262 - accuracy: 0.8792 - val_loss: 0.4022 - val_accuracy: 0.8641\n",
      "313/313 [==============================] - 1s 2ms/step - loss: 0.4323 - accuracy: 0.8548\n",
      "Test results - Loss: 0.4323340952396393 - Accuracy: 85.47999858856201%\n"
     ]
    }
   ],
   "source": [
    "# Enter your solution here\n",
    "feature_vector_shape = X_train.shape[1]\n",
    "input_shape = (feature_vector_shape,)\n",
    "num_classes = 10\n",
    "\n",
    "loss_function_used = CategoricalCrossentropy(from_logits=True)\n",
    "model = Sequential()\n",
    "model.add(Dense(12, input_shape=input_shape, activation='relu', kernel_initializer='he_uniform'))\n",
    "model.add(Dense(8, activation='relu', kernel_initializer='he_uniform'))\n",
    "model.add(Dense(num_classes, activation='softmax'))\n",
    "\n",
    "model.compile(loss=loss_function_used, optimizer=tf.keras.optimizers.Adam(lr=0.001), metrics=['accuracy'])\n",
    "history = model.fit(X_train, y_train_enc, epochs=25, batch_size=5, verbose=1, validation_split=0.2)\n",
    "\n",
    "\n",
    "test_results = model.evaluate(X_test, y_test_enc, verbose=1)\n",
    "print(f'Test results - Loss: {test_results[0]} - Accuracy: {test_results[1]*100}%')"
   ]
  },
  {
   "cell_type": "markdown",
   "metadata": {},
   "source": [
    "<details>\n",
    "    <summary>Click here for Solution</summary>\n",
    "\n",
    "```python\n",
    "feature_vector_shape = X_train.shape[1]\n",
    "input_shape = (feature_vector_shape,)\n",
    "num_classes = 10\n",
    "loss_function_used = CategoricalCrossentropy(from_logits=True)\n",
    "\n",
    "model = Sequential()\n",
    "model.add(Dense(12, input_shape=input_shape, activation='relu', kernel_initializer='he_uniform'))\n",
    "model.add(Dense(8, activation='relu', kernel_initializer='he_uniform'))\n",
    "model.add(Dense(num_classes, activation='softmax'))\n",
    "\n",
    "\n",
    "model.compile(loss=loss_function_used, optimizer=tf.keras.optimizers.Adam(lr=0.001), metrics=['accuracy'])\n",
    "history = model.fit(X_train, y_train_enc, epochs=25, batch_size=5, verbose=1, validation_split=0.2)\n",
    "\n",
    "test_results = model.evaluate(X_test, y_test_enc, verbose=1)\n",
    "print(f'Test results - Loss: {test_results[0]} - Accuracy: {test_results[1]*100}%')\n",
    "\n",
    "\n",
    "```\n",
    "\n",
    "</details>\n"
   ]
  },
  {
   "cell_type": "markdown",
   "metadata": {},
   "source": [
    "### (Optional) Exercise 5 - Sparse Categorical Cross Entropy\n"
   ]
  },
  {
   "cell_type": "markdown",
   "metadata": {},
   "source": [
    "We saw that when using categorical cross-entropy, the ground truth labels need to be one-hot encoded. Keras provides another loss function called sparse cross-entropy where we can leave the labels as integers.\n",
    "\n",
    "Build a CNN model with two hidden layers, that uses softmax as the activation function, and sparse categorical cross-entropy as the loss function. Make sure to use the non-one-hot encoded ground-truth labels.  \n"
   ]
  },
  {
   "cell_type": "code",
   "execution_count": 60,
   "metadata": {
    "tags": []
   },
   "outputs": [
    {
     "name": "stderr",
     "output_type": "stream",
     "text": [
      "WARNING:absl:`lr` is deprecated, please use `learning_rate` instead, or use the legacy optimizer, e.g.,tf.keras.optimizers.legacy.Adam.\n"
     ]
    },
    {
     "name": "stdout",
     "output_type": "stream",
     "text": [
      "Epoch 1/25\n",
      "9600/9600 [==============================] - 37s 4ms/step - loss: 0.6348 - accuracy: 0.7735 - val_loss: 0.4877 - val_accuracy: 0.8310\n",
      "Epoch 2/25\n",
      "9600/9600 [==============================] - 38s 4ms/step - loss: 0.4748 - accuracy: 0.8326 - val_loss: 0.5002 - val_accuracy: 0.8232\n",
      "Epoch 3/25\n",
      "9600/9600 [==============================] - 36s 4ms/step - loss: 0.4412 - accuracy: 0.8441 - val_loss: 0.4307 - val_accuracy: 0.8485\n",
      "Epoch 4/25\n",
      "9600/9600 [==============================] - 35s 4ms/step - loss: 0.4202 - accuracy: 0.8495 - val_loss: 0.4103 - val_accuracy: 0.8558\n",
      "Epoch 5/25\n",
      "9600/9600 [==============================] - 35s 4ms/step - loss: 0.4052 - accuracy: 0.8554 - val_loss: 0.4244 - val_accuracy: 0.8518\n",
      "Epoch 6/25\n",
      "9600/9600 [==============================] - 35s 4ms/step - loss: 0.3922 - accuracy: 0.8589 - val_loss: 0.4014 - val_accuracy: 0.8588\n",
      "Epoch 7/25\n",
      "9600/9600 [==============================] - 35s 4ms/step - loss: 0.3838 - accuracy: 0.8626 - val_loss: 0.4016 - val_accuracy: 0.8596\n",
      "Epoch 8/25\n",
      "9600/9600 [==============================] - 35s 4ms/step - loss: 0.3776 - accuracy: 0.8649 - val_loss: 0.3961 - val_accuracy: 0.8622\n",
      "Epoch 9/25\n",
      "9600/9600 [==============================] - 35s 4ms/step - loss: 0.3708 - accuracy: 0.8666 - val_loss: 0.4545 - val_accuracy: 0.8401\n",
      "Epoch 10/25\n",
      "9600/9600 [==============================] - 35s 4ms/step - loss: 0.3648 - accuracy: 0.8680 - val_loss: 0.3901 - val_accuracy: 0.8604\n",
      "Epoch 11/25\n",
      "9600/9600 [==============================] - 35s 4ms/step - loss: 0.3622 - accuracy: 0.8697 - val_loss: 0.3949 - val_accuracy: 0.8597\n",
      "Epoch 12/25\n",
      "9600/9600 [==============================] - 34s 4ms/step - loss: 0.3584 - accuracy: 0.8704 - val_loss: 0.3996 - val_accuracy: 0.8590\n",
      "Epoch 13/25\n",
      "9600/9600 [==============================] - 35s 4ms/step - loss: 0.3535 - accuracy: 0.8727 - val_loss: 0.4008 - val_accuracy: 0.8615\n",
      "Epoch 14/25\n",
      "9600/9600 [==============================] - 37s 4ms/step - loss: 0.3515 - accuracy: 0.8732 - val_loss: 0.4063 - val_accuracy: 0.8593\n",
      "Epoch 15/25\n",
      "9600/9600 [==============================] - 35s 4ms/step - loss: 0.3479 - accuracy: 0.8723 - val_loss: 0.4016 - val_accuracy: 0.8610\n",
      "Epoch 16/25\n",
      "9600/9600 [==============================] - 35s 4ms/step - loss: 0.3456 - accuracy: 0.8738 - val_loss: 0.3962 - val_accuracy: 0.8641\n",
      "Epoch 17/25\n",
      "9600/9600 [==============================] - 35s 4ms/step - loss: 0.3416 - accuracy: 0.8752 - val_loss: 0.3923 - val_accuracy: 0.8656\n",
      "Epoch 18/25\n",
      "9600/9600 [==============================] - 34s 4ms/step - loss: 0.3390 - accuracy: 0.8750 - val_loss: 0.3967 - val_accuracy: 0.8658\n",
      "Epoch 19/25\n",
      "9600/9600 [==============================] - 35s 4ms/step - loss: 0.3377 - accuracy: 0.8750 - val_loss: 0.4011 - val_accuracy: 0.8601\n",
      "Epoch 20/25\n",
      "9600/9600 [==============================] - 35s 4ms/step - loss: 0.3340 - accuracy: 0.8783 - val_loss: 0.4079 - val_accuracy: 0.8587\n",
      "Epoch 21/25\n",
      "9600/9600 [==============================] - 35s 4ms/step - loss: 0.3323 - accuracy: 0.8783 - val_loss: 0.3993 - val_accuracy: 0.8633\n",
      "Epoch 22/25\n",
      "9600/9600 [==============================] - 36s 4ms/step - loss: 0.3320 - accuracy: 0.8786 - val_loss: 0.3977 - val_accuracy: 0.8628\n",
      "Epoch 23/25\n",
      "9600/9600 [==============================] - 35s 4ms/step - loss: 0.3293 - accuracy: 0.8790 - val_loss: 0.4211 - val_accuracy: 0.8567\n",
      "Epoch 24/25\n",
      "9600/9600 [==============================] - 35s 4ms/step - loss: 0.3276 - accuracy: 0.8795 - val_loss: 0.4094 - val_accuracy: 0.8650\n",
      "Epoch 25/25\n",
      "9600/9600 [==============================] - 35s 4ms/step - loss: 0.3256 - accuracy: 0.8800 - val_loss: 0.4087 - val_accuracy: 0.8617\n",
      "313/313 [==============================] - 1s 2ms/step - loss: 0.4451 - accuracy: 0.8529\n",
      "Test results - Loss: 0.44509124755859375 - Accuracy: 85.29000282287598%\n"
     ]
    }
   ],
   "source": [
    "# Enter your solution here\n",
    "feature_vector_shape = X_train.shape[1]\n",
    "input_shape = (feature_vector_shape,)\n",
    "num_classes = 10\n",
    "loss_function_used = SparseCategoricalCrossentropy()\n",
    "\n",
    "model = Sequential()\n",
    "model.add(Dense(12, input_shape=input_shape, activation='relu', kernel_initializer='he_uniform'))\n",
    "model.add(Dense(8, activation='relu', kernel_initializer='he_uniform'))\n",
    "model.add(Dense(num_classes, activation='softmax'))\n",
    "\n",
    "\n",
    "model.compile(loss=loss_function_used, optimizer=tf.keras.optimizers.Adam(lr=0.001), metrics=['accuracy'])\n",
    "history = model.fit(X_train, y_train, epochs=25, batch_size=5, verbose=1, validation_split=0.2)\n",
    "\n",
    "test_results = model.evaluate(X_test, y_test, verbose=1)\n",
    "print(f'Test results - Loss: {test_results[0]} - Accuracy: {test_results[1]*100}%')"
   ]
  },
  {
   "cell_type": "markdown",
   "metadata": {},
   "source": [
    "<details>\n",
    "    <summary>Click here for Solution</summary>\n",
    "\n",
    "```python\n",
    "feature_vector_shape = X_train.shape[1]\n",
    "input_shape = (feature_vector_shape,)\n",
    "num_classes = 10\n",
    "loss_function_used = SparseCategoricalCrossentropy()\n",
    "\n",
    "model = Sequential()\n",
    "model.add(Dense(12, input_shape=input_shape, activation='relu', kernel_initializer='he_uniform'))\n",
    "model.add(Dense(8, activation='relu', kernel_initializer='he_uniform'))\n",
    "model.add(Dense(num_classes, activation='softmax'))\n",
    "\n",
    "\n",
    "model.compile(loss=loss_function_used, optimizer=tf.keras.optimizers.Adam(lr=0.001), metrics=['accuracy'])\n",
    "history = model.fit(X_train, y_train, epochs=25, batch_size=5, verbose=1, validation_split=0.2)\n",
    "\n",
    "test_results = model.evaluate(X_test, y_test, verbose=1)\n",
    "print(f'Test results - Loss: {test_results[0]} - Accuracy: {test_results[1]*100}%')\n",
    "\n",
    "```\n",
    "\n",
    "</details>\n"
   ]
  },
  {
   "cell_type": "markdown",
   "metadata": {},
   "source": [
    "## References\n"
   ]
  },
  {
   "cell_type": "markdown",
   "metadata": {},
   "source": [
    "Bishop, C., 2006. Pattern Recognition and Machine Learning.\n"
   ]
  },
  {
   "cell_type": "markdown",
   "metadata": {},
   "source": [
    "## Authors\n"
   ]
  },
  {
   "cell_type": "markdown",
   "metadata": {},
   "source": [
    "[Kopal Garg](https://www.linkedin.com/in/gargkopal/?utm_medium=Exinfluencer&utm_source=Exinfluencer&utm_content=000026UJ&utm_term=10006555&utm_id=NA-SkillsNetwork-Channel-SkillsNetworkCoursesIBMDeveloperSkillsNetworkML311Coursera35714171-2022-01-01)\n"
   ]
  },
  {
   "cell_type": "markdown",
   "metadata": {},
   "source": [
    "## Change Log\n"
   ]
  },
  {
   "cell_type": "markdown",
   "metadata": {},
   "source": [
    "|Date (YYYY-MM-DD)|Version|Changed By|Change Description|\n",
    "|-|-|-|-|\n",
    "|2022-05-20|0.1|Kopal Garg|Create Lab|\n",
    "|2022-09-06|0.1|Steve Hord|QA pass edits|\n"
   ]
  },
  {
   "cell_type": "markdown",
   "metadata": {},
   "source": [
    "Copyright © 2022 IBM Corporation. All rights reserved.\n"
   ]
  }
 ],
 "metadata": {
  "kernelspec": {
   "display_name": "Python",
   "language": "python",
   "name": "conda-env-python-py"
  },
  "language_info": {
   "codemirror_mode": {
    "name": "ipython",
    "version": 3
   },
   "file_extension": ".py",
   "mimetype": "text/x-python",
   "name": "python",
   "nbconvert_exporter": "python",
   "pygments_lexer": "ipython3",
   "version": "3.7.12"
  },
  "prev_pub_hash": "7c554d395fcc33239e85a68a8ac8696e4a54ba7070f2eb51e600e9d7ce57417d"
 },
 "nbformat": 4,
 "nbformat_minor": 4
}
